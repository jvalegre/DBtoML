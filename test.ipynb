{
 "cells": [
  {
   "cell_type": "markdown",
   "id": "c3dc00b0",
   "metadata": {},
   "source": [
    "# Analysis of QM files"
   ]
  },
  {
   "cell_type": "code",
   "execution_count": 1,
   "id": "61a5631f",
   "metadata": {},
   "outputs": [
    {
     "name": "stdout",
     "output_type": "stream",
     "text": [
      "a-Ar-B.log: Termination = normal, Error type = none\n",
      "a-Ar.log: Termination = normal, Error type = none\n",
      "a-Int-I-T1.log: Termination = normal, Error type = none\n",
      "a-Int-II.log: Termination = normal, Error type = none\n",
      "a-Int-III-B.log: Termination = normal, Error type = none\n",
      "a-Int-III.log: Termination = normal, Error type = none\n",
      "a-Int-IV-B.log: Termination = normal, Error type = none\n",
      "a-Int-IV.log: Termination = normal, Error type = none\n",
      "a-pinene.log: Termination = normal, Error type = none\n",
      "a-TS-I-B-T1.LOG: Termination = normal, Error type = none\n",
      "a-TS-I-B.log: Termination = normal, Error type = spin_contaminated\n",
      "b-Int-I-T1.log: Termination = normal, Error type = none\n",
      "b-Int-II.log: Termination = normal, Error type = none\n",
      "b-Int-III-B.log: Termination = normal, Error type = none\n",
      "b-Int-III.log: Termination = normal, Error type = none\n",
      "b-Int-IV-B.log: Termination = normal, Error type = none\n",
      "b-Int-IV.log: Termination = normal, Error type = none\n",
      "b-Int-V-B.log: Termination = normal, Error type = none\n",
      "b-Int-V.log: Termination = normal, Error type = none\n",
      "b-pinene.log: Termination = normal, Error type = none\n",
      "cat_freq.log: Termination = normal, Error type = extra_imag_freq\n",
      "H.log: Termination = normal, Error type = none\n",
      "H2.log: Termination = normal, Error type = none\n",
      "MeOH_G09.log: Termination = normal, Error type = none\n",
      "MeOH_G09_2.log: Termination = normal, Error type = none\n",
      "MeOH_G09_fail.log: Termination = other, Error type = not_specified\n",
      "MeOH_G09_onlyopt.log: Termination = other, Error type = no_freq\n",
      "MeOH_G09_unfinished.log: Termination = other, Error type = not_specified\n",
      "Propylene-rad.log: Termination = normal, Error type = none\n",
      "Propylene.log: Termination = normal, Error type = none\n",
      "spin_contami.log: Termination = normal, Error type = spin_contaminated\n",
      "TS_2_imag_freq.log: Termination = normal, Error type = extra_imag_freq\n"
     ]
    }
   ],
   "source": [
    "import os\n",
    "from aqme.qcorr_gaussian import qcorr\n",
    "\n",
    "w_dir_main=os.getcwd()\n",
    "\n",
    "qm_files = '*.log'\n",
    "qcorr_calcs = qcorr(w_dir_main=w_dir_main,qm_files=qm_files)"
   ]
  },
  {
   "cell_type": "markdown",
   "id": "9482e663",
   "metadata": {},
   "source": [
    "# SPC input file generation"
   ]
  },
  {
   "cell_type": "code",
   "execution_count": 2,
   "id": "af25be56",
   "metadata": {},
   "outputs": [],
   "source": [
    "# Gaussian SP input file generation\n",
    "import os\n",
    "from aqme.qcorr_gaussian import json2input\n",
    "\n",
    "w_dir_main=os.getcwd()\n",
    "\n",
    "source = f'{w_dir_main}/successful_QM_outputs/json_files'\n",
    "\n",
    "destination = f'{w_dir_main}/successful_QM_outputs/json_files/qm_input'\n",
    "json_files_sp = '*.json'\n",
    "\n",
    "lot_suffix = [['wb97xd/def2qzvpp scrf=(smd,solvent=acetonitrile)','wb97xd']]\n",
    "lot_suffix.append(['m062x/def2qzvpp emp=gd3 scrf=(smd,solvent=acetonitrile)','m062x'])\n",
    "lot_suffix.append(['b3lyp/6-31G*','b3lyp'])\n",
    "\n",
    "for level in lot_suffix:\n",
    "    json2input(source=source, destination=destination,json_files=json_files_sp, \n",
    "                qm_input=level[0], suffix=level[1], program='gaussian', mem='16GB', nprocs=8)\n"
   ]
  },
  {
   "cell_type": "code",
   "execution_count": 3,
   "id": "18db6e29",
   "metadata": {},
   "outputs": [],
   "source": [
    "#ORCA SP input file generation\n",
    "import os\n",
    "from aqme.qcorr_gaussian import json2input\n",
    "\n",
    "w_dir_main=os.getcwd()\n",
    "\n",
    "source = f'{w_dir_main}/successful_QM_outputs/json_files'\n",
    "\n",
    "destination = f'{w_dir_main}/successful_QM_outputs/json_files/qm_input'\n",
    "json_files_sp = '*.json'\n",
    "\n",
    "ORCA_SP = 'Extrapolate(2/3,cc) def2/J cc-pVTZ/C DLPNO-CCSD(T) NormalPNO TightSCF RIJCOSX GridX7\\n'\n",
    "ORCA_SP += '%cpcm\\n'\n",
    "ORCA_SP += 'smd true\\n'\n",
    "ORCA_SP += 'SMDsolvent \\\"CH2Cl2\\\"\\n'\n",
    "ORCA_SP += 'end\\n'\n",
    "ORCA_SP += '%method\\n'\n",
    "ORCA_SP += 'Grid 3\\n'\n",
    "ORCA_SP += 'FinalGrid 5\\n'\n",
    "ORCA_SP += 'end\\n'\n",
    "ORCA_SP += '%scf maxiter 500\\n'\n",
    "ORCA_SP += 'end\\n'\n",
    "ORCA_SP += '% mdci\\n'\n",
    "ORCA_SP += 'Density None\\n'\n",
    "ORCA_SP += 'end\\n'\n",
    "ORCA_SP += '% output\\n'\n",
    "ORCA_SP += 'printlevel mini\\n'\n",
    "ORCA_SP += 'print[ P_SCFInfo ] 1\\n'\n",
    "ORCA_SP += 'print[ P_SCFIterInfo ] 1\\n'\n",
    "ORCA_SP += 'print[ P_OrbEn ] 0\\n'\n",
    "ORCA_SP += 'print[ P_Cartesian ] 0\\n'\n",
    "ORCA_SP += 'end\\n'\n",
    "ORCA_SP += '% elprop\\n'\n",
    "ORCA_SP += 'Dipole False\\n'\n",
    "ORCA_SP += 'end'\n",
    "\n",
    "json2input(source=source, destination=destination,json_files=json_files_sp, \n",
    "            qm_input=ORCA_SP, suffix='DLPNO', program='orca', mem='4GB', nprocs=8)\n",
    "                "
   ]
  },
  {
   "cell_type": "code",
   "execution_count": 4,
   "id": "30c8d03e",
   "metadata": {},
   "outputs": [],
   "source": [
    "# calculate vertical T1 excitation energy\n",
    "\n",
    "import os\n",
    "from aqme.qcorr_gaussian import json2input\n",
    "\n",
    "w_dir_main=os.getcwd()\n",
    "\n",
    "source = f'{w_dir_main}/successful_QM_outputs/json_files'\n",
    "\n",
    "destination = f'{w_dir_main}/successful_QM_outputs/json_files/qm_input'\n",
    "json_files_sp = '*.json'\n",
    "\n",
    "lot_suffix = [['wb97xd/def2qzvpp scrf=(smd,solvent=acetonitrile)','wb97xd-S0T1']]\n",
    "\n",
    "for level in lot_suffix:\n",
    "    json2input(source=source, destination=destination,json_files=json_files_sp, mult=3,\n",
    "                qm_input=level[0], suffix=level[1], program='gaussian', mem='16GB', nprocs=8)"
   ]
  },
  {
   "cell_type": "code",
   "execution_count": 5,
   "id": "42fefce6",
   "metadata": {},
   "outputs": [],
   "source": [
    "# calculate reduction potential\n",
    "import os\n",
    "from aqme.qcorr_gaussian import json2input\n",
    "\n",
    "w_dir_main=os.getcwd()\n",
    "\n",
    "source = f'{w_dir_main}/successful_QM_outputs/json_files'\n",
    "\n",
    "destination = f'{w_dir_main}/successful_QM_outputs/json_files/qm_input'\n",
    "json_files_sp = '*.json'\n",
    "\n",
    "lot_suffix = [['wb97xd/def2qzvpp scrf=(smd,solvent=acetonitrile)','wb97xd-reduced']]\n",
    "\n",
    "for level in lot_suffix:\n",
    "    json2input(source=source, destination=destination,json_files=json_files_sp, charge=-1, mult=2,\n",
    "                qm_input=level[0], suffix=level[1], program='gaussian', mem='16GB', nprocs=8)"
   ]
  },
  {
   "cell_type": "code",
   "execution_count": 6,
   "id": "e7c03e01",
   "metadata": {},
   "outputs": [],
   "source": [
    "# do a single point with genECP included\n",
    "\n",
    "import os\n",
    "from aqme.qcorr_gaussian import json2input\n",
    "\n",
    "w_dir_main=os.getcwd()\n",
    "\n",
    "source = f'{w_dir_main}/successful_QM_outputs/json_files'\n",
    "\n",
    "destination = f'{w_dir_main}/successful_QM_outputs/json_files/qm_input'\n",
    "json_files_sp = '*.json'\n",
    "\n",
    "lot_suffix = [['wb97xd/genecp scrf=(smd,solvent=acetonitrile)','wb97xd-genecp']]\n",
    "\n",
    "for level in lot_suffix:\n",
    "    json2input(source=source, destination=destination,json_files=json_files_sp,\n",
    "\t\t\t\tbs_gen='def2svp', bs='6-31G*', gen_atoms=['C'],\n",
    "                qm_input=level[0], suffix=level[1], program='gaussian', mem='16GB', nprocs=8)"
   ]
  },
  {
   "cell_type": "code",
   "execution_count": 7,
   "id": "2509f67e",
   "metadata": {},
   "outputs": [],
   "source": [
    "# do an NBO calc with gen and final line after coords (requiring Wyberg bond orders)\n",
    "\n",
    "import os\n",
    "from aqme.qcorr_gaussian import json2input\n",
    "\n",
    "w_dir_main=os.getcwd()\n",
    "\n",
    "source = f'{w_dir_main}/successful_QM_outputs/json_files'\n",
    "\n",
    "destination = f'{w_dir_main}/successful_QM_outputs/json_files/qm_input'\n",
    "json_files_sp = '*.json'\n",
    "\n",
    "lot_suffix = [['pop=(nbo6read,savenbos) wb97xd/gen scrf=(smd,solvent=dichloromethane)','wb97xd-gen-nbo']]\n",
    "qm_end = '$nbo bndidx $end'\n",
    "\n",
    "for level in lot_suffix:\n",
    "    json2input(source=source, destination=destination,json_files=json_files_sp, qm_end=qm_end,\n",
    "                bs_gen='def2svp', bs='6-31G*', gen_atoms=['C'],\n",
    "                qm_input=level[0], suffix=level[1], program='gaussian', mem='16GB', nprocs=8)"
   ]
  }
 ],
 "metadata": {
  "kernelspec": {
   "display_name": "Python 3 (ipykernel)",
   "language": "python",
   "name": "python3"
  },
  "language_info": {
   "codemirror_mode": {
    "name": "ipython",
    "version": 3
   },
   "file_extension": ".py",
   "mimetype": "text/x-python",
   "name": "python",
   "nbconvert_exporter": "python",
   "pygments_lexer": "ipython3",
   "version": "3.7.9"
  }
 },
 "nbformat": 4,
 "nbformat_minor": 5
}
