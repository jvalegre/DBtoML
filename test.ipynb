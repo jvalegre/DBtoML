{
 "cells": [
  {
   "cell_type": "code",
   "execution_count": 1,
   "id": "139d4867",
   "metadata": {},
   "outputs": [],
   "source": [
    "from rdkit import Chem"
   ]
  },
  {
   "cell_type": "code",
   "execution_count": 2,
   "id": "5189be0d",
   "metadata": {},
   "outputs": [
    {
     "name": "stdout",
     "output_type": "stream",
     "text": [
      "C\n",
      "C\n",
      "C\n",
      "H\n",
      "H\n",
      "H\n",
      "H\n",
      "H\n",
      "H\n",
      "H\n",
      "H\n",
      "[[ 0.924  -0.0392 -0.0545]\n",
      " [ 2.4431 -0.0209 -0.0759]\n",
      " [ 2.9758  0.9177 -1.1451]\n",
      " [ 0.5634 -0.7209  0.7224]\n",
      " [ 0.5227 -0.3762 -1.0155]\n",
      " [ 0.523   0.9576  0.1548]\n",
      " [ 2.818  -1.0339 -0.2594]\n",
      " [ 2.8182  0.2926  0.9048]\n",
      " [ 2.6376  0.6104 -2.14  ]\n",
      " [ 4.0702  0.9149 -1.1422]\n",
      " [ 2.6379  1.9439 -0.9694]]\n"
     ]
    }
   ],
   "source": [
    "mols = Chem.SDMolSupplier('test.sdf', removeHs=False)\n",
    "\n",
    "# mol = mol.GetConformers()[0]\n",
    "for mol in mols: \n",
    "\n",
    "    for i,atom in enumerate(mol.GetAtoms()):\n",
    "        print(atom.GetSymbol())\n",
    "\n",
    "    cartesians = mol.GetConformers()[0].GetPositions()\n",
    "\n",
    "\n",
    "    print(cartesians)"
   ]
  },
  {
   "cell_type": "code",
   "execution_count": 3,
   "id": "6aa97bdf",
   "metadata": {},
   "outputs": [],
   "source": [
    "from pyconfort.qprep_gaussian import GaussianTemplate"
   ]
  },
  {
   "cell_type": "code",
   "execution_count": 4,
   "id": "e070446e",
   "metadata": {},
   "outputs": [
    {
     "data": {
      "text/plain": [
       "<pyconfort.qprep_gaussian.GaussianTemplate at 0x1ee0fc44a08>"
      ]
     },
     "execution_count": 4,
     "metadata": {},
     "output_type": "execute_result"
    }
   ],
   "source": [
    "\n",
    "\n",
    "GaussianTemplate(mol=mol,molecule='prop',qm_input='b3lyp/GenECP',program='gaussian', \n",
    "                bs_gen='def2tzvp', bs='631', gen_atoms='C,H')"
   ]
  },
  {
   "cell_type": "code",
   "execution_count": null,
   "id": "c744bd1d",
   "metadata": {},
   "outputs": [],
   "source": []
  },
  {
   "cell_type": "code",
   "execution_count": null,
   "id": "61a5631f",
   "metadata": {},
   "outputs": [],
   "source": []
  }
 ],
 "metadata": {
  "kernelspec": {
   "display_name": "Python 3 (ipykernel)",
   "language": "python",
   "name": "python3"
  },
  "language_info": {
   "codemirror_mode": {
    "name": "ipython",
    "version": 3
   },
   "file_extension": ".py",
   "mimetype": "text/x-python",
   "name": "python",
   "nbconvert_exporter": "python",
   "pygments_lexer": "ipython3",
   "version": "3.7.9"
  }
 },
 "nbformat": 4,
 "nbformat_minor": 5
}
