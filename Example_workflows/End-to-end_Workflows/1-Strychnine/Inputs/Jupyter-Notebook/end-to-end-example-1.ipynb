{
 "cells": [
  {
   "cell_type": "markdown",
   "id": "c078e237",
   "metadata": {},
   "source": [
    "# Example 1"
   ]
  },
  {
   "cell_type": "markdown",
   "id": "dfcd531d",
   "metadata": {},
   "source": [
    "### End-to-end workflow to calculate conformer proportions and NMR spectra of strychnine with AQME from a SMILES string"
   ]
  },
  {
   "cell_type": "markdown",
   "id": "b877b11f",
   "metadata": {},
   "source": [
    "This workflow includes:\n",
    "\n",
    "i) RDKit conformer sampling \\\n",
    "ii) Gaussian geometry optimization (B3LYP/6-31+G(d,p)) \\\n",
    "iii) Fixing errors and imaginary frequencies of the output files \\\n",
    "iv) Calculation and analysis of NMR chemical shifts for the conformers generated \\\n",
    "v) GoodVibes calculation of Boltzmann distributions using Gibbs free energies at 298.15 K"
   ]
  },
  {
   "cell_type": "markdown",
   "id": "d6d77ff9",
   "metadata": {},
   "source": [
    "#### Steps involved in this example"
   ]
  },
  {
   "cell_type": "markdown",
   "id": "c9e6d4af",
   "metadata": {},
   "source": [
    "- Step 1: Importing AQME and other python modules\n",
    "- Step 2: CSEARCH conformational sampling\n",
    "- Step 3: Creating Gaussian input files for optimization and frequency with QPREP\n",
    "- Step 4: Running Gaussian inputs for optimization and frequency calcs externally\n",
    "- Step 5: QCORR analysis including isomerization filter\n",
    "- Step 6: Resubmission of unsuccessful calculations (if any) with suggestions from AQME\n",
    "- Step 7: Creating Gaussian input files for NMR calcs with QPREP\n",
    "- Step 8: Running Gaussian NMR calcs\n",
    "- Step 9: Obtaining Boltzmann weighted NMR shifts with QDESCP\n",
    "- Step 10: Calculating conformer populations with GoodVibes"
   ]
  },
  {
   "cell_type": "markdown",
   "id": "40e845e8",
   "metadata": {},
   "source": [
    "###  Step 1: Importing AQME and other python modules"
   ]
  },
  {
   "cell_type": "code",
   "execution_count": 1,
   "id": "53b8d3bc",
   "metadata": {},
   "outputs": [
    {
     "name": "stderr",
     "output_type": "stream",
     "text": [
      "RDKit WARNING: [12:55:40] Enabling RDKit 2019.09.3 jupyter extensions\n",
      "[12:55:40] Enabling RDKit 2019.09.3 jupyter extensions\n"
     ]
    }
   ],
   "source": [
    "import os, subprocess,shutil, glob\n",
    "from pathlib import Path \n",
    "from aqme.csearch import csearch\n",
    "from aqme.qprep import qprep\n",
    "from aqme.qcorr import qcorr\n",
    "from aqme.qdescp import qdescp"
   ]
  },
  {
   "cell_type": "markdown",
   "id": "f7c16c26",
   "metadata": {},
   "source": [
    "### Step 2: CSEARCH conformational sampling"
   ]
  },
  {
   "cell_type": "code",
   "execution_count": 2,
   "id": "cde86bc8",
   "metadata": {},
   "outputs": [
    {
     "name": "stdout",
     "output_type": "stream",
     "text": [
      "True\n",
      "AQME v 1.4.0 2022/12/07 12:55:40 \n",
      "Citation: AQME v 1.4.0, Alegre-Requena, J. V.; Sowndarya, S.; Perez-Soto, R.; Alturaifi, T. M.; Paton, R. S., 2022. https://github.com/jvalegre/aqme\n",
      "\n",
      "\n",
      "\n",
      "Starting CSEARCH with 1 job(s) (SDF, XYZ, CSV, etc. files might contain multiple jobs/structures inside)\n",
      "\n",
      "\n",
      "\n",
      "   ----- Strychnine -----\n",
      "\n",
      "\n",
      "o  Applying filters to initial conformers\n",
      "\n",
      "\n",
      "Time CSEARCH: 9.33 seconds\n",
      "\n",
      "\n"
     ]
    },
    {
     "data": {
      "text/plain": [
       "<aqme.csearch.base.csearch at 0x7f96460d5fd0>"
      ]
     },
     "execution_count": 2,
     "metadata": {},
     "output_type": "execute_result"
    }
   ],
   "source": [
    "name = 'Strychnine'\n",
    "smi = 'C1CN2CC3=CCO[C@H]4CC(=O)N5[C@H]6[C@H]4[C@H]3C[C@H]2[C@@]61C7=CC=CC=C75'\n",
    "program = 'rdkit'\n",
    "\n",
    "sdf_path = f'{os.getcwd()}/{name}_sdf-files' # folder where the SDF files are generated\n",
    "\n",
    "csearch(destination=sdf_path,program=program,smi=smi,name=name)"
   ]
  },
  {
   "cell_type": "markdown",
   "id": "a9309553",
   "metadata": {},
   "source": [
    "### Step 3: Creating Gaussian input files for optimization and frequency with QPREP"
   ]
  },
  {
   "cell_type": "code",
   "execution_count": 3,
   "id": "1e17dc2c",
   "metadata": {},
   "outputs": [
    {
     "name": "stdout",
     "output_type": "stream",
     "text": [
      "True\n",
      "AQME v 1.4.0 2022/12/07 12:55:40 \n",
      "Citation: AQME v 1.4.0, Alegre-Requena, J. V.; Sowndarya, S.; Perez-Soto, R.; Alturaifi, T. M.; Paton, R. S., 2022. https://github.com/jvalegre/aqme\n",
      "\n",
      "\n",
      "o  Strychnine_rdkit successfully processed at /home/svss/Project-DBcg-Molecules/aqme/Example_workflows/End-to-end_Workflows/1-Strychnine/Inputs/Jupyter-Notebook/Strychnine_com-files\n",
      "\n",
      "\n",
      "Time QPREP: 0.01 seconds\n",
      "\n",
      "\n"
     ]
    },
    {
     "data": {
      "text/plain": [
       "<aqme.qprep.qprep at 0x7f96ed9e1a90>"
      ]
     },
     "execution_count": 3,
     "metadata": {},
     "output_type": "execute_result"
    }
   ],
   "source": [
    "program = 'gaussian'\n",
    "qm_input = 'B3LYP/6-31+G(d,p) opt freq'\n",
    "mem='24GB'\n",
    "nprocs=12\n",
    "\n",
    "sdf_rdkit_files = f'{sdf_path}/*.sdf' # SDF files from Step 2\n",
    "com_path = f'{os.getcwd()}/{name}_com-files' # folder where the COM files are generated\n",
    "\n",
    "qprep(destination=com_path,files=sdf_rdkit_files,program=program,\n",
    "        qm_input=qm_input,mem=mem,nprocs=nprocs)"
   ]
  },
  {
   "cell_type": "markdown",
   "id": "375c92b2",
   "metadata": {},
   "source": [
    "### Step 4: Running Gaussian inputs for optimization and frequency calcs externally"
   ]
  },
  {
   "cell_type": "code",
   "execution_count": 4,
   "id": "5398488b",
   "metadata": {},
   "outputs": [],
   "source": [
    "# Run the generated COM files (in com_path, see PATH in Step 3) with Gaussian"
   ]
  },
  {
   "cell_type": "markdown",
   "id": "9b97b4c9",
   "metadata": {},
   "source": [
    "### Step 5: QCORR analysis including isomerization filter"
   ]
  },
  {
   "cell_type": "code",
   "execution_count": 5,
   "id": "dcc4369f",
   "metadata": {},
   "outputs": [
    {
     "name": "stdout",
     "output_type": "stream",
     "text": [
      "True\n",
      "AQME v 1.4.0 2022/12/07 12:55:40 \n",
      "Citation: AQME v 1.4.0, Alegre-Requena, J. V.; Sowndarya, S.; Perez-Soto, R.; Alturaifi, T. M.; Paton, R. S., 2022. https://github.com/jvalegre/aqme\n",
      "\n",
      "\n",
      "o  Analyzing output files in /home/svss/Project-DBcg-Molecules/aqme/Example_workflows/End-to-end_Workflows/1-Strychnine/Inputs/Jupyter-Notebook/Strychnine_com-files\n",
      "\n",
      "\n",
      "Strychnine_rdkit_conf_1.log: Termination = normal, Error type = none\n",
      "\n",
      "Strychnine_rdkit_conf_2.log: Termination = normal, Error type = none\n",
      "\n",
      "\n",
      "-- Full check analysis --\n",
      "o  Same program (Gaussian 16, Revision C.01) used in all the calculations\n",
      "o  Same grid_type (ultrafine) used in all the calculations\n",
      "o  Same level_of_theory (B3LYP/6-31+G(d,p)) used in all the calculations\n",
      "o  Same dispersion (none) used in all the calculations\n",
      "o  Same solvation (gas_phase) used in all the calculations\n",
      "\n",
      "\n",
      " Time QCORR: 4.54 seconds\n",
      "\n",
      "\n"
     ]
    },
    {
     "data": {
      "text/plain": [
       "<aqme.qcorr.qcorr at 0x7f96ed9fe050>"
      ]
     },
     "execution_count": 5,
     "metadata": {},
     "output_type": "execute_result"
    }
   ],
   "source": [
    "log_files=f'{com_path}/*.log' # LOG files from Step 4\n",
    "\n",
    "qcorr(files=log_files,freq_conv='opt=(calcfc,maxstep=5)',isom_type='com',isom_inputs=com_path,nprocs=24,mem='96GB')"
   ]
  },
  {
   "cell_type": "markdown",
   "id": "1de43758",
   "metadata": {},
   "source": [
    "### Step 6: Resubmission of unsuccessful calculations (if any) with suggestions from AQME"
   ]
  },
  {
   "cell_type": "code",
   "execution_count": 6,
   "id": "0e386103",
   "metadata": {},
   "outputs": [],
   "source": [
    "# Run the generated COM files (in fixed_inp_folder) with Gaussian"
   ]
  },
  {
   "cell_type": "markdown",
   "id": "d8fadf9e",
   "metadata": {},
   "source": [
    "### Step 7: Creating Gaussian input files for NMR calcs with QPREP"
   ]
  },
  {
   "cell_type": "code",
   "execution_count": 7,
   "id": "79190323",
   "metadata": {},
   "outputs": [
    {
     "name": "stdout",
     "output_type": "stream",
     "text": [
      "True\n",
      "AQME v 1.4.0 2022/12/07 12:55:40 \n",
      "Citation: AQME v 1.4.0, Alegre-Requena, J. V.; Sowndarya, S.; Perez-Soto, R.; Alturaifi, T. M.; Paton, R. S., 2022. https://github.com/jvalegre/aqme\n",
      "\n",
      "\n",
      "o  Strychnine_rdkit_conf_1 successfully processed at /home/svss/Project-DBcg-Molecules/aqme/Example_workflows/End-to-end_Workflows/1-Strychnine/Inputs/Jupyter-Notebook/Strychnine_sp-files\n",
      "\n",
      "o  Strychnine_rdkit_conf_2 successfully processed at /home/svss/Project-DBcg-Molecules/aqme/Example_workflows/End-to-end_Workflows/1-Strychnine/Inputs/Jupyter-Notebook/Strychnine_sp-files\n",
      "\n",
      "\n",
      "Time QPREP: 0.02 seconds\n",
      "\n",
      "\n"
     ]
    },
    {
     "data": {
      "text/plain": [
       "<aqme.qprep.qprep at 0x7f96ed9e1b90>"
      ]
     },
     "execution_count": 7,
     "metadata": {},
     "output_type": "execute_result"
    }
   ],
   "source": [
    "program = 'gaussian'\n",
    "qm_input = 'B3LYP/6-311+G(2d,p) scrf=(solvent=chloroform,smd) nmr=giao'\n",
    "mem='24GB'\n",
    "nprocs=12\n",
    "\n",
    "success_folder = com_path+'/success' # folder where the successful LOG files are stored during the QCORR cycles (Steps 5 and 6)\n",
    "log_files = f'{success_folder}/*.log'\n",
    "sp_path = f'{os.getcwd()}/{name}_sp-files' # folder to store the new COM inputs for single point NMR calcs\n",
    "\n",
    "qprep(w_dir_main=success_folder,destination=sp_path,files=log_files,program=program,qm_input=qm_input,mem=mem,nprocs=nprocs,suffix='SP')"
   ]
  },
  {
   "cell_type": "markdown",
   "id": "c2b888b0",
   "metadata": {},
   "source": [
    "### Step 8: Running Gaussian NMR calcs"
   ]
  },
  {
   "cell_type": "code",
   "execution_count": 8,
   "id": "ea58dfcc",
   "metadata": {},
   "outputs": [],
   "source": [
    "# Run the generated COM files (in sp_path, see PATH in Step 7) with Gaussian"
   ]
  },
  {
   "cell_type": "markdown",
   "id": "3b832aa3",
   "metadata": {},
   "source": [
    "### Step 9: Obtaining Boltzmann weighted NMR shifts with QDESCP"
   ]
  },
  {
   "cell_type": "code",
   "execution_count": 9,
   "id": "fdf6a977",
   "metadata": {},
   "outputs": [
    {
     "name": "stdout",
     "output_type": "stream",
     "text": [
      "True\n",
      "AQME v 1.4.0 2022/12/07 12:55:40 \n",
      "Citation: AQME v 1.4.0, Alegre-Requena, J. V.; Sowndarya, S.; Perez-Soto, R.; Alturaifi, T. M.; Paton, R. S., 2022. https://github.com/jvalegre/aqme\n",
      "\n",
      "\n",
      "o  Analyzing output files in /home/svss/Project-DBcg-Molecules/aqme/Example_workflows/End-to-end_Workflows/1-Strychnine/Inputs/Jupyter-Notebook/Strychnine_sp-files\n",
      "\n",
      "\n",
      "Strychnine_rdkit_conf_1_SP.log: Termination = normal, Error type = sp_calc\n",
      "\n",
      "Strychnine_rdkit_conf_2_SP.log: Termination = normal, Error type = sp_calc\n",
      "\n",
      "\n",
      "x  No normal terminations with no errors to run the full check analysis\n",
      "\n",
      "\n",
      " Time QCORR: 4.06 seconds\n",
      "\n",
      "\n",
      "True\n",
      "AQME v 1.4.0 2022/12/07 12:55:40 \n",
      "Citation: AQME v 1.4.0, Alegre-Requena, J. V.; Sowndarya, S.; Perez-Soto, R.; Alturaifi, T. M.; Paton, R. S., 2022. https://github.com/jvalegre/aqme\n",
      "\n",
      "\n",
      "o  QDESCP successfully done at /home/svss/Project-DBcg-Molecules/aqme/Example_workflows/End-to-end_Workflows/1-Strychnine/Inputs/Jupyter-Notebook/Strychnine_nmr-files\n",
      "\n",
      "\n",
      "Time QDESCP: 0.04 seconds\n",
      "\n",
      "\n"
     ]
    },
    {
     "data": {
      "text/plain": [
       "<aqme.qdescp.qdescp at 0x7f9608b5d250>"
      ]
     },
     "execution_count": 9,
     "metadata": {},
     "output_type": "execute_result"
    }
   ],
   "source": [
    "# Create JSON files with QCORR to store the information from the resulting LOG files\n",
    "log_files=f'{sp_path}/*.log'\n",
    "qcorr(files=log_files)\n",
    "\n",
    "# Analyze the JSON files to calculate the Boltzmann averaged shielding tensors\n",
    "json_folder = sp_path+'/success/SP_calcs/json_files' # folder where the JSON files were just created with QCORR\n",
    "json_files=f'{json_folder}/*.json'\n",
    "nmr_path = f'{os.getcwd()}/{name}_nmr-files' # folder to store the results from QDESCP\n",
    "\n",
    "qdescp(program='nmr',boltz=True,files=json_files,destination=nmr_path,nmr_slope=[-1.0537, -1.0784],nmr_intercept=[181.7815,31.8723], nmr_experim='Experimental_NMR_shifts.csv')"
   ]
  },
  {
   "cell_type": "markdown",
   "id": "2e47ba43",
   "metadata": {},
   "source": [
    "### Step 10: Calculating conformer populations with GoodVibes"
   ]
  },
  {
   "cell_type": "code",
   "execution_count": 10,
   "id": "18f26333",
   "metadata": {},
   "outputs": [
    {
     "name": "stdout",
     "output_type": "stream",
     "text": [
      "   GoodVibes v3.0.1 2022/12/07 12:57:10\n",
      "   REF: Luchini, G.; Alegre-Requena J. V.; Guan, Y.; Funes-Ardoiz, I.; Paton, R. S. (2019).\n",
      "        GoodVibes: GoodVibes 3.0.1 http://doi.org/10.5281/zenodo.595246\n",
      "   Requested: --xyz -c 1 --boltz \n",
      "\n",
      "   Temperature = 298.15 Kelvin   Concentration = 1.0 mol/l\n",
      "   All energetic values below shown in Hartree unless otherwise specified.\n",
      "   Using vibrational scale factor 1.0 for B3LYP/6-31+G(d,p) level of theory\n",
      "\n",
      "   Entropic quasi-harmonic treatment: frequency cut-off value of 100.0 wavenumbers will be applied.\n",
      "   QS = Grimme: Using a mixture of RRHO and Free-rotor vibrational entropies.\n",
      "   REF: Grimme, S. Chem. Eur. J. 2012, 18, 9955-9964\n",
      "\n",
      "\n",
      "   Structure                                           E        ZPE             H        T.S     T.qh-S          G(T)       qh-G(T)  Boltz\n",
      "   ***************************************************************************************************************************************\n",
      "o  Strychnine_rdkit_conf_1                  -1073.473612   0.398492  -1073.056828   0.058545   0.057502  -1073.115373  -1073.114330  0.998\n",
      "o  Strychnine_rdkit_conf_2                  -1073.468255   0.398824  -1073.051251   0.058210   0.057252  -1073.109461  -1073.108503  0.002\n",
      "   ***************************************************************************************************************************************\n"
     ]
    }
   ],
   "source": [
    "log_files = glob.glob(f'{success_folder}/*.log')\n",
    "\n",
    "w_dir_main  = Path(os.getcwd())\n",
    "GV_folder = w_dir_main.joinpath('Strychine_GoodVibes-analysis')\n",
    "GV_folder.mkdir(exist_ok=True, parents=True)\n",
    "\n",
    "for file in log_files:\n",
    "\tshutil.copy(file, GV_folder)\n",
    "\n",
    "# run GoodVibes\n",
    "os.chdir(GV_folder)\n",
    "subprocess.run(['python', '-m', 'goodvibes', '--xyz','-c','1', '*.log','--boltz'])\n",
    "os.chdir(w_dir_main)\n"
   ]
  },
  {
   "cell_type": "code",
   "execution_count": null,
   "id": "2463a631",
   "metadata": {},
   "outputs": [],
   "source": []
  }
 ],
 "metadata": {
  "kernelspec": {
   "display_name": "bm",
   "language": "python",
   "name": "bm"
  },
  "language_info": {
   "codemirror_mode": {
    "name": "ipython",
    "version": 3
   },
   "file_extension": ".py",
   "mimetype": "text/x-python",
   "name": "python",
   "nbconvert_exporter": "python",
   "pygments_lexer": "ipython3",
   "version": "3.7.4"
  },
  "vscode": {
   "interpreter": {
    "hash": "6fd74c72106078714e0fce224080d73d80ec6931ebd33b284a64c665ffc716e5"
   }
  }
 },
 "nbformat": 4,
 "nbformat_minor": 5
}
