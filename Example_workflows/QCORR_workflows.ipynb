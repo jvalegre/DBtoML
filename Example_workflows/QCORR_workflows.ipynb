{
 "cells": [
  {
   "cell_type": "markdown",
   "id": "c3dc00b0",
   "metadata": {},
   "source": [
    "# Analysis of QM files"
   ]
  },
  {
   "cell_type": "code",
   "execution_count": 1,
   "id": "61a5631f",
   "metadata": {},
   "outputs": [
    {
     "name": "stdout",
     "output_type": "stream",
     "text": [
      "bpinene_spin_contamin.log: Termination = normal, Error type = spin_contaminated\n",
      "CH2OH2_unfinished.log: Termination = other, Error type = not_specified\n",
      "CH4.log: Termination = normal, Error type = none\n",
      "CH4_duplicate.log: Termination = normal, Error type = duplicate_calc\n",
      "MeOH_G09.log: Termination = normal, Error type = none\n",
      "-- Full check analysis --\n",
      "x  Different program used in the calculations:\n",
      "     * Gaussian 09, Revision A.02, in:\n",
      "       - CH4\n",
      "     * Gaussian 16, Revision C.01, in:\n",
      "       - MeOH_G09\n",
      "x  Different grid used in the calculations:\n",
      "     * sg1 in:\n",
      "       - CH4\n",
      "     * fine in:\n",
      "       - MeOH_G09\n",
      "x  Different lot used in the calculations:\n",
      "     * M062X/3-21G in:\n",
      "       - CH4\n",
      "     * PBE1PBE/CC-pVTZ in:\n",
      "       - MeOH_G09\n",
      "o  Same dispersion (none) used in all the calculations\n",
      "x  Different solvation used in the calculations:\n",
      "     * gas_phase in:\n",
      "       - CH4\n",
      "     * scrf=(solvent=chloroform,pcm) in:\n",
      "       - MeOH_G09\n"
     ]
    }
   ],
   "source": [
    "# standard QCORR analysis of Gaussian 16 output files and generation of json files\n",
    "import os\n",
    "from aqme.qcorr import qcorr\n",
    "\n",
    "w_dir_main=os.getcwd()+'/QCORR_1'\n",
    "qm_files = '*.log'\n",
    "\n",
    "qcorr_calcs = qcorr(w_dir_main=w_dir_main,qm_files=qm_files,author='Juan V. Alegre-Requena')\n"
   ]
  },
  {
   "cell_type": "code",
   "execution_count": 2,
   "id": "a769bd05",
   "metadata": {},
   "outputs": [
    {
     "name": "stdout",
     "output_type": "stream",
     "text": [
      "-- Full check analysis --\n",
      "x  Different program used in the calculations:\n",
      "     * Gaussian 09, Revision A.02, in:\n",
      "       - CH4\n",
      "     * Gaussian 16, Revision C.01, in:\n",
      "       - MeOH_G09\n",
      "x  Different grid used in the calculations:\n",
      "     * sg1 in:\n",
      "       - CH4\n",
      "     * fine in:\n",
      "       - MeOH_G09\n",
      "x  Different lot used in the calculations:\n",
      "     * M062X/3-21G in:\n",
      "       - CH4\n",
      "     * PBE1PBE/CC-pVTZ in:\n",
      "       - MeOH_G09\n",
      "o  Same dispersion (none) used in all the calculations\n",
      "x  Different solvation used in the calculations:\n",
      "     * gas_phase in:\n",
      "       - CH4\n",
      "     * scrf=(solvent=chloroform,pcm) in:\n",
      "       - MeOH_G09\n"
     ]
    }
   ],
   "source": [
    "# ** full check of json files can be done separately using the function qcorr.full_check(). It only\n",
    "# requires a collection of json files and it analyzes whether the calculations were done homogeneously\n",
    "# (i.e. same level of theory, grid size, program and version, solvation model and empirical dispersion)\n",
    "\n",
    "import os\n",
    "from aqme.qcorr import full_check\n",
    "\n",
    "w_dir_main=os.getcwd()+'/QCORR_1/successful_QM_outputs/json_files'\n",
    "json_files = '*.json'\n",
    "\n",
    "full_check(w_dir_main=w_dir_main,destination_fullcheck=w_dir_main,json_files=json_files)"
   ]
  },
  {
   "cell_type": "code",
   "execution_count": 3,
   "id": "b597e302",
   "metadata": {},
   "outputs": [
    {
     "name": "stdout",
     "output_type": "stream",
     "text": [
      "CH2OH2_isomerized.log: Termination = normal, Error type = isomerization\n",
      "CH4.log: Termination = normal, Error type = none\n",
      "-- Full check analysis --\n",
      "o  Same program (Gaussian 09, Revision A.02,) used in all the calculations\n",
      "o  Same grid (sg1) used in all the calculations\n",
      "o  Same lot (M062X/3-21G) used in all the calculations\n",
      "o  Same dispersion (none) used in all the calculations\n",
      "o  Same solvation (gas_phase) used in all the calculations\n"
     ]
    }
   ],
   "source": [
    "# QCORR analysis of Gaussian 16 output files including isomerization check and generation of json files\n",
    "import os\n",
    "from aqme.qcorr import qcorr\n",
    "\n",
    "w_dir_main=os.getcwd()+'/QCORR_2'\n",
    "qm_files = '*.log'\n",
    "\n",
    "# folder with initial inputs\n",
    "input_folder=os.getcwd()+'/QCORR_2/unsuccessful_QM_outputs/run_0/fixed_QM_inputs'\n",
    "\n",
    "qcorr_calcs = qcorr(w_dir_main=w_dir_main,qm_files=qm_files,author='Juan V. Alegre-Requena',isom='com',isom_inputs=input_folder)"
   ]
  },
  {
   "cell_type": "code",
   "execution_count": 4,
   "id": "a3dfb732",
   "metadata": {},
   "outputs": [
    {
     "name": "stdout",
     "output_type": "stream",
     "text": [
      "a_6311.log: Termination = normal, Error type = sp_calc\n",
      "b_6311.log: Termination = normal, Error type = sp_calc\n",
      "x  Potential cclib compatibility problem with file a_DLPNO.out\n"
     ]
    },
    {
     "ename": "SystemExit",
     "evalue": "",
     "output_type": "error",
     "traceback": [
      "An exception has occurred, use %tb to see the full traceback.\n",
      "\u001b[1;31mSystemExit\u001b[0m\n"
     ]
    },
    {
     "name": "stderr",
     "output_type": "stream",
     "text": [
      "C:\\Users\\juanv\\anaconda3\\envs\\DL_CPU\\lib\\site-packages\\IPython\\core\\interactiveshell.py:3452: UserWarning: To exit: use 'exit', 'quit', or Ctrl-D.\n",
      "  warn(\"To exit: use 'exit', 'quit', or Ctrl-D.\", stacklevel=1)\n"
     ]
    }
   ],
   "source": [
    "# QCORR analysis of Gaussian 16 and ORCA single_point energy calculations with no fullcheck and generation of json files\n",
    "import os\n",
    "from aqme.qcorr import qcorr\n",
    "\n",
    "w_dir_main=os.getcwd()+'/QCORR_3'\n",
    "qm_files = ['*.log','*.out']\n",
    "\n",
    "for out_type in qm_files:\n",
    "    qcorr_calcs = qcorr(w_dir_main=w_dir_main,qm_files=out_type,author='Juan V. Alegre-Requena',fullcheck=False)\n"
   ]
  },
  {
   "cell_type": "markdown",
   "id": "9482e663",
   "metadata": {},
   "source": [
    "# SPC input file generation"
   ]
  },
  {
   "cell_type": "code",
   "execution_count": 1,
   "id": "af25be56",
   "metadata": {},
   "outputs": [
    {
     "name": "stdout",
     "output_type": "stream",
     "text": [
      "o  Creating input files with suffix \"wb97xd\" in c:\\Users\\juanv\\OneDrive - Colostate\\Software Programas\\aqme/Example_workflows/QCORR_1/successful_QM_outputs/json_files/qm_input\n",
      "\n",
      "o  Creating input files with suffix \"m062x\" in c:\\Users\\juanv\\OneDrive - Colostate\\Software Programas\\aqme/Example_workflows/QCORR_1/successful_QM_outputs/json_files/qm_input\n",
      "\n",
      "o  Creating input files with suffix \"b3lyp\" in c:\\Users\\juanv\\OneDrive - Colostate\\Software Programas\\aqme/Example_workflows/QCORR_1/successful_QM_outputs/json_files/qm_input\n",
      "\n",
      "o  Creating input files with suffix \"DLPNO\" in c:\\Users\\juanv\\OneDrive - Colostate\\Software Programas\\aqme/Example_workflows/QCORR_1/successful_QM_outputs/json_files/qm_input\n",
      "\n"
     ]
    }
   ],
   "source": [
    "# Gaussian SP input file generation\n",
    "import os\n",
    "from aqme.qcorr import json2input\n",
    "\n",
    "# folder with input json files and their names (*.json to include all the json files in the folder)\n",
    "source = os.getcwd()+'/QCORR_1/successful_QM_outputs/json_files'\n",
    "json_files_sp = '*.json'\n",
    "\n",
    "# folder to create the new input files\n",
    "destination = os.getcwd()+'/QCORR_1/successful_QM_outputs/json_files/qm_input'\n",
    "\n",
    "# specify a list of lists with level of theory, suffix and program used to generate input files\n",
    "# 1) Three levels of theory for Gaussian calculations\n",
    "lot_suffix_program = [['wb97xd/def2qzvpp scrf=(smd,solvent=acetonitrile)','wb97xd','gaussian']]\n",
    "lot_suffix_program.append(['m062x/def2qzvpp emp=gd3 scrf=(smd,solvent=acetonitrile)','m062x','gaussian'])\n",
    "lot_suffix_program.append(['b3lyp/6-31G*','b3lyp','gaussian'])\n",
    "\n",
    "# 2) A DLPNO example for ORCA calculations\n",
    "ORCA_SP = 'Extrapolate(2/3,cc) def2/J cc-pVTZ/C DLPNO-CCSD(T) NormalPNO TightSCF RIJCOSX GridX7\\n'\n",
    "ORCA_SP += '%cpcm\\n'\n",
    "ORCA_SP += 'smd true\\n'\n",
    "ORCA_SP += 'SMDsolvent \\\"CH2Cl2\\\"\\n'\n",
    "ORCA_SP += 'end\\n'\n",
    "ORCA_SP += '%method\\n'\n",
    "ORCA_SP += 'Grid 3\\n'\n",
    "ORCA_SP += 'FinalGrid 5\\n'\n",
    "ORCA_SP += 'end\\n'\n",
    "ORCA_SP += '%scf maxiter 500\\n'\n",
    "ORCA_SP += 'end\\n'\n",
    "ORCA_SP += '% mdci\\n'\n",
    "ORCA_SP += 'Density None\\n'\n",
    "ORCA_SP += 'end\\n'\n",
    "ORCA_SP += '% output\\n'\n",
    "ORCA_SP += 'printlevel mini\\n'\n",
    "ORCA_SP += 'print[ P_SCFInfo ] 1\\n'\n",
    "ORCA_SP += 'print[ P_SCFIterInfo ] 1\\n'\n",
    "ORCA_SP += 'print[ P_OrbEn ] 0\\n'\n",
    "ORCA_SP += 'print[ P_Cartesian ] 0\\n'\n",
    "ORCA_SP += 'end\\n'\n",
    "ORCA_SP += '% elprop\\n'\n",
    "ORCA_SP += 'Dipole False\\n'\n",
    "ORCA_SP += 'end'\n",
    "\n",
    "lot_suffix_program.append([ORCA_SP,'DLPNO','orca'])\n",
    "\n",
    "for level in lot_suffix_program:\n",
    "    print(f'o  Creating input files with suffix \"{level[1]}\" in {destination}\\n')\n",
    "    json2input(source=source, destination=destination, json_files=json_files_sp, \n",
    "                qm_input=level[0], suffix=level[1], program=level[2], mem='4GB', nprocs=2)\n"
   ]
  },
  {
   "cell_type": "code",
   "execution_count": 2,
   "id": "30c8d03e",
   "metadata": {},
   "outputs": [
    {
     "name": "stdout",
     "output_type": "stream",
     "text": [
      "o  Creating input files with suffix \"wb97xd-S0T1\" in c:\\Users\\juanv\\OneDrive - Colostate\\Software Programas\\aqme/Example_workflows/QCORR_1/successful_QM_outputs/json_files/qm_input\n",
      "\n"
     ]
    }
   ],
   "source": [
    "# calculate vertical T1 excitation energy\n",
    "\n",
    "import os\n",
    "from aqme.qcorr import json2input\n",
    "\n",
    "# folder with input json files and their names (*.json to include all the json files in the folder)\n",
    "source = os.getcwd()+'/QCORR_1/successful_QM_outputs/json_files'\n",
    "json_files_sp = '*.json'\n",
    "\n",
    "# folder to create the new input files\n",
    "destination = os.getcwd()+'/QCORR_1/successful_QM_outputs/json_files/qm_input'\n",
    "\n",
    "lot_suffix = ['wb97xd/def2qzvpp scrf=(smd,solvent=acetonitrile)','wb97xd-S0T1']\n",
    "\n",
    "print(f'o  Creating input files with suffix \"{lot_suffix[1]}\" in {destination}\\n')\n",
    "json2input(source=source, destination=destination,json_files=json_files_sp, mult=3,\n",
    "            qm_input=lot_suffix[0], suffix=lot_suffix[1], program='gaussian', mem='16GB', nprocs=8)"
   ]
  },
  {
   "cell_type": "code",
   "execution_count": 3,
   "id": "42fefce6",
   "metadata": {},
   "outputs": [
    {
     "name": "stdout",
     "output_type": "stream",
     "text": [
      "o  Creating input files with suffix \"wb97xd-reduced\" in c:\\Users\\juanv\\OneDrive - Colostate\\Software Programas\\aqme/Example_workflows/QCORR_1/successful_QM_outputs/json_files/qm_input\n",
      "\n"
     ]
    }
   ],
   "source": [
    "# calculate reduction potential\n",
    "import os\n",
    "from aqme.qcorr import json2input\n",
    "\n",
    "# folder with input json files and their names (*.json to include all the json files in the folder)\n",
    "source = os.getcwd()+'/QCORR_1/successful_QM_outputs/json_files'\n",
    "json_files_sp = '*.json'\n",
    "\n",
    "# folder to create the new input files\n",
    "destination = os.getcwd()+'/QCORR_1/successful_QM_outputs/json_files/qm_input'\n",
    "\n",
    "lot_suffix = ['wb97xd/def2qzvpp scrf=(smd,solvent=acetonitrile)','wb97xd-reduced']\n",
    "\n",
    "print(f'o  Creating input files with suffix \"{lot_suffix[1]}\" in {destination}\\n')\n",
    "json2input(source=source, destination=destination,json_files=json_files_sp, charge=-1, mult=2,\n",
    "            qm_input=lot_suffix[0], suffix=lot_suffix[1], program='gaussian', mem='16GB', nprocs=8)"
   ]
  },
  {
   "cell_type": "code",
   "execution_count": 4,
   "id": "e7c03e01",
   "metadata": {},
   "outputs": [
    {
     "name": "stdout",
     "output_type": "stream",
     "text": [
      "o  Creating input files with suffix \"wb97xd-genecp\" in c:\\Users\\juanv\\OneDrive - Colostate\\Software Programas\\aqme/Example_workflows/QCORR_1/successful_QM_outputs/json_files/qm_input\n",
      "\n"
     ]
    }
   ],
   "source": [
    "# do a single point with genECP included\n",
    "\n",
    "import os\n",
    "from aqme.qcorr import json2input\n",
    "\n",
    "# folder with input json files and their names (*.json to include all the json files in the folder)\n",
    "source = os.getcwd()+'/QCORR_1/successful_QM_outputs/json_files'\n",
    "json_files_sp = '*.json'\n",
    "\n",
    "# folder to create the new input files\n",
    "destination = os.getcwd()+'/QCORR_1/successful_QM_outputs/json_files/qm_input'\n",
    "\n",
    "lot_suffix = ['wb97xd/genecp scrf=(smd,solvent=acetonitrile)','wb97xd-genecp']\n",
    "\n",
    "print(f'o  Creating input files with suffix \"{lot_suffix[1]}\" in {destination}\\n')\n",
    "json2input(source=source, destination=destination,json_files=json_files_sp,\n",
    "            bs_gen='def2svp', bs='6-31G*', gen_atoms=['C'],\n",
    "            qm_input=lot_suffix[0], suffix=lot_suffix[1], program='gaussian', mem='16GB', nprocs=8)"
   ]
  },
  {
   "cell_type": "code",
   "execution_count": 5,
   "id": "2509f67e",
   "metadata": {},
   "outputs": [
    {
     "name": "stdout",
     "output_type": "stream",
     "text": [
      "o  Creating input files with suffix \"wb97xd-gen-nbo\" in c:\\Users\\juanv\\OneDrive - Colostate\\Software Programas\\aqme/Example_workflows/QCORR_1/successful_QM_outputs/json_files/qm_input\n",
      "\n"
     ]
    }
   ],
   "source": [
    "# do an NBO calc with gen and final line after coords (requiring Wyberg bond orders)\n",
    "\n",
    "import os\n",
    "from aqme.qcorr import json2input\n",
    "\n",
    "# folder with input json files and their names (*.json to include all the json files in the folder)\n",
    "source = os.getcwd()+'/QCORR_1/successful_QM_outputs/json_files'\n",
    "json_files_sp = '*.json'\n",
    "\n",
    "# folder to create the new input files\n",
    "destination = os.getcwd()+'/QCORR_1/successful_QM_outputs/json_files/qm_input'\n",
    "\n",
    "lot_suffix = ['pop=(nbo6read,savenbos) wb97xd/gen scrf=(smd,solvent=dichloromethane)','wb97xd-gen-nbo']\n",
    "qm_end = '$nbo bndidx $end'\n",
    "\n",
    "print(f'o  Creating input files with suffix \"{lot_suffix[1]}\" in {destination}\\n')\n",
    "json2input(source=source, destination=destination,json_files=json_files_sp, qm_end=qm_end,\n",
    "            bs_gen='def2svp', bs='6-31G*', gen_atoms=['C'],\n",
    "            qm_input=lot_suffix[0], suffix=lot_suffix[1], program='gaussian', mem='16GB', nprocs=8)"
   ]
  },
  {
   "cell_type": "code",
   "execution_count": 10,
   "id": "bb3e38dc",
   "metadata": {},
   "outputs": [
    {
     "ename": "NameError",
     "evalue": "name 'gto' is not defined",
     "output_type": "error",
     "traceback": [
      "\u001b[1;31m---------------------------------------------------------------------------\u001b[0m",
      "\u001b[1;31mNameError\u001b[0m                                 Traceback (most recent call last)",
      "\u001b[1;32m~\\AppData\\Local\\Temp/ipykernel_18156/2213365984.py\u001b[0m in \u001b[0;36m<module>\u001b[1;34m\u001b[0m\n\u001b[0;32m     36\u001b[0m     \u001b[0mbasis\u001b[0m \u001b[1;33m=\u001b[0m \u001b[1;34m'ccpvdz'\u001b[0m\u001b[1;33m\u001b[0m\u001b[1;33m\u001b[0m\u001b[0m\n\u001b[0;32m     37\u001b[0m \u001b[1;33m\u001b[0m\u001b[0m\n\u001b[1;32m---> 38\u001b[1;33m     \u001b[0mmol\u001b[0m \u001b[1;33m=\u001b[0m \u001b[0mgto\u001b[0m\u001b[1;33m.\u001b[0m\u001b[0mM\u001b[0m\u001b[1;33m(\u001b[0m\u001b[0matom\u001b[0m\u001b[1;33m=\u001b[0m\u001b[0mcoord_input\u001b[0m\u001b[1;33m,\u001b[0m \u001b[0mbasis\u001b[0m\u001b[1;33m=\u001b[0m\u001b[0mbasis\u001b[0m\u001b[1;33m,\u001b[0m \u001b[0mcharge\u001b[0m\u001b[1;33m=\u001b[0m\u001b[0mcharge\u001b[0m\u001b[1;33m,\u001b[0m \u001b[0mspin\u001b[0m\u001b[1;33m=\u001b[0m\u001b[0mspin\u001b[0m\u001b[1;33m)\u001b[0m\u001b[1;33m\u001b[0m\u001b[1;33m\u001b[0m\u001b[0m\n\u001b[0m\u001b[0;32m     39\u001b[0m     \u001b[0mmol\u001b[0m\u001b[1;33m.\u001b[0m\u001b[0mbuild\u001b[0m\u001b[1;33m(\u001b[0m\u001b[1;33m)\u001b[0m\u001b[1;33m\u001b[0m\u001b[1;33m\u001b[0m\u001b[0m\n\u001b[0;32m     40\u001b[0m     \u001b[0menergy\u001b[0m \u001b[1;33m=\u001b[0m \u001b[0mmol\u001b[0m\u001b[1;33m.\u001b[0m\u001b[0mRKS\u001b[0m\u001b[1;33m(\u001b[0m\u001b[1;33m)\u001b[0m\u001b[1;33m.\u001b[0m\u001b[0mrun\u001b[0m\u001b[1;33m(\u001b[0m\u001b[0mchkfile\u001b[0m \u001b[1;33m=\u001b[0m \u001b[1;34m'expt0.chk'\u001b[0m\u001b[1;33m,\u001b[0m \u001b[0m_numint\u001b[0m \u001b[1;33m=\u001b[0m \u001b[0mdm21\u001b[0m\u001b[1;33m.\u001b[0m\u001b[0mNeuralNumInt\u001b[0m\u001b[1;33m(\u001b[0m\u001b[0mdm21\u001b[0m\u001b[1;33m.\u001b[0m\u001b[0mFunctional\u001b[0m\u001b[1;33m.\u001b[0m\u001b[0mDM21\u001b[0m\u001b[1;33m)\u001b[0m\u001b[1;33m)\u001b[0m\u001b[1;33m\u001b[0m\u001b[1;33m\u001b[0m\u001b[0m\n",
      "\u001b[1;31mNameError\u001b[0m: name 'gto' is not defined"
     ]
    }
   ],
   "source": [
    "# run a PySCF single-point calculation with the DeepMind 21 (DM21) functional using the generated json files\n",
    "from aqme.utils import cclib_atoms_coords\n",
    "import json\n",
    "import glob\n",
    "\n",
    "# read json files\n",
    "initial_dir = os.getcwd()\n",
    "source = os.getcwd()+'/QCORR_1/successful_QM_outputs/json_files'\n",
    "os.chdir(source)\n",
    "json_files = glob.glob('*.json')\n",
    "\n",
    "# run the PySCF calculations\n",
    "for file in json_files:\n",
    "    with open(file) as json_file:\n",
    "        cclib_data = json.load(json_file)\n",
    "\n",
    "    atom_types,cartesians = cclib_atoms_coords(cclib_data)\n",
    "\n",
    "    coord_input = ''\n",
    "    for i,atom in enumerate(atom_types):\n",
    "        if i != 0:\n",
    "            coord_input += ' '\n",
    "        coord_input += atom+' '\n",
    "            \n",
    "        for j,cart in enumerate(cartesians[i]):\n",
    "            coord_input += str(cart)\n",
    "            if j != 2:\n",
    "                coord_input += ' '\n",
    "            else:\n",
    "                if i != len(atom_types)-1:\n",
    "                    coord_input += ';'\n",
    "    \n",
    "    charge = cclib_data['properties']['charge']\n",
    "    mult = cclib_data['properties']['multiplicity']\n",
    "    spin = mult-1\n",
    "    basis = 'ccpvdz'\n",
    "\n",
    "    # creates mol object for the calculations\n",
    "    mol = gto.M(atom=coord_input, basis=basis, charge=charge, spin=spin)\n",
    "    mol.output = f'./{file.split(\".\")[0]}.log'\n",
    "    mol.verbose = 3\n",
    "    mol.build()\n",
    "\n",
    "    # runs the PySCF calculation\n",
    "    if spin == 0:\n",
    "        energy = mol.RKS().run(chkfile = 'expt0.chk', _numint = dm21.NeuralNumInt(dm21.Functional.DM21),\n",
    "                            conv_tol = 1E-6, conv_tol_grad = 1E-3)\n",
    "    else:\n",
    "        energy = mol.UKS().run(chkfile = 'expt0.chk', _numint = dm21.NeuralNumInt(dm21.Functional.DM21),\n",
    "                            conv_tol = 1E-6, conv_tol_grad = 1E-3) \n",
    "    \n",
    "    # print results in the LOG file specified in mol.output                       \n",
    "    energy.dump_scf_summary()\n",
    "    energy.analyze()\n",
    "    energy.spin_square()\n",
    "\n",
    "os.chdir(initial_dir)"
   ]
  }
 ],
 "metadata": {
  "kernelspec": {
   "display_name": "Python 3 (ipykernel)",
   "language": "python",
   "name": "python3"
  },
  "language_info": {
   "codemirror_mode": {
    "name": "ipython",
    "version": 3
   },
   "file_extension": ".py",
   "mimetype": "text/x-python",
   "name": "python",
   "nbconvert_exporter": "python",
   "pygments_lexer": "ipython3",
   "version": "3.7.9"
  }
 },
 "nbformat": 4,
 "nbformat_minor": 5
}
