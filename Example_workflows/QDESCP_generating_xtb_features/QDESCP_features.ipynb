{
 "cells": [
  {
   "cell_type": "markdown",
   "id": "a7b9c8e0",
   "metadata": {},
   "source": [
    "#### Organic molecule with SMILES input, CSEARCH performs conformational sampling with RDKit, QDESCP produces xtb properties\n"
   ]
  },
  {
   "cell_type": "markdown",
   "id": "22b18331",
   "metadata": {},
   "source": [
    "###### Step 1: CSEARCH to produce SDF files"
   ]
  },
  {
   "cell_type": "code",
   "execution_count": 1,
   "id": "890059a1",
   "metadata": {},
   "outputs": [
    {
     "name": "stderr",
     "output_type": "stream",
     "text": [
      "RDKit WARNING: [12:07:37] Enabling RDKit 2019.09.3 jupyter extensions\n",
      "[12:07:37] Enabling RDKit 2019.09.3 jupyter extensions\n"
     ]
    },
    {
     "name": "stdout",
     "output_type": "stream",
     "text": [
      "AQME v 1.4.0 2022/12/08 12:07:37 \n",
      "Citation: AQME v 1.4.0, Alegre-Requena, J. V.; Sowndarya, S.; Perez-Soto, R.; Alturaifi, T. M.; Paton, R. S., 2022. https://github.com/jvalegre/aqme\n",
      "\n",
      "\n",
      "\n",
      "Starting CSEARCH with 5 job(s) (SDF, XYZ, CSV, etc. files might contain multiple jobs/structures inside)\n",
      "\n",
      "\n",
      "\n",
      "   ----- mol_0 -----\n",
      "\n",
      "\n",
      "o  Applying filters to initial conformers\n",
      "\n",
      "\n",
      "   ----- mol_1 -----\n",
      "\n",
      "\n",
      "o  Applying filters to initial conformers\n",
      "\n",
      "\n",
      "   ----- mol_2 -----\n",
      "\n",
      "\n",
      "o  Applying filters to initial conformers\n",
      "\n",
      "\n",
      "   ----- mol_3 -----\n",
      "\n",
      "\n",
      "o  Applying filters to initial conformers\n",
      "\n",
      "\n",
      "   ----- mol_4 -----\n",
      "\n",
      "\n",
      "o  Applying filters to initial conformers\n",
      "\n",
      "\n",
      "Time CSEARCH: 2.49 seconds\n",
      "\n",
      "\n"
     ]
    },
    {
     "data": {
      "text/plain": [
       "<aqme.csearch.base.csearch at 0x7fbe1f6f0ed0>"
      ]
     },
     "execution_count": 1,
     "metadata": {},
     "output_type": "execute_result"
    }
   ],
   "source": [
    "import glob\n",
    "from aqme.csearch import csearch\n",
    "from aqme.qdescp import qdescp\n",
    "\n",
    "# set working directory, SDF creation folder, name and SMILES string\n",
    "name = 'test'\n",
    "file = 'test.csv'\n",
    "\n",
    "# run CSEARCH conformational sampling, specifying:\n",
    "# 1) RDKit sampling (program='rdkit')\n",
    "# 2) SMILES string (smi=smi)\n",
    "# 3) Name for the output SDF files (name=name)\n",
    "csearch(program='rdkit',input=file)"
   ]
  },
  {
   "cell_type": "markdown",
   "id": "4fc89c5c",
   "metadata": {},
   "source": [
    "###### Step 2 : QDESCP to produces properties"
   ]
  },
  {
   "cell_type": "code",
   "execution_count": 2,
   "id": "1f169535",
   "metadata": {},
   "outputs": [
    {
     "name": "stdout",
     "output_type": "stream",
     "text": [
      "AQME v 1.4.0 2022/12/08 12:07:37 \n",
      "Citation: AQME v 1.4.0, Alegre-Requena, J. V.; Sowndarya, S.; Perez-Soto, R.; Alturaifi, T. M.; Paton, R. S., 2022. https://github.com/jvalegre/aqme\n",
      "\n",
      "\n",
      "o  QDESCP successfully done at /home/svss/Project-DBcg-Molecules/aqme/Example_workflows/QDESCP_generating_xtb_features/QDESCP\n",
      "\n",
      "\n",
      "Time QDESCP: 48.38 seconds\n",
      "\n",
      "\n"
     ]
    },
    {
     "data": {
      "text/plain": [
       "<aqme.qdescp.qdescp at 0x7fc006e21b90>"
      ]
     },
     "execution_count": 2,
     "metadata": {},
     "output_type": "execute_result"
    }
   ],
   "source": [
    "# set SDF filenames and directory where the new com files will be created\n",
    "sdf_rdkit_files = glob.glob(f'CSEARCH/*.sdf')\n",
    "\n",
    "# run QDESCP input files generator, with:\n",
    "# 1) Files to run (files=sdf_rdkit_files)\n",
    "qdescp(files=sdf_rdkit_files,boltz=True, program='xtb')\n",
    " "
   ]
  },
  {
   "cell_type": "code",
   "execution_count": null,
   "id": "e37a6bcd",
   "metadata": {},
   "outputs": [],
   "source": []
  },
  {
   "cell_type": "code",
   "execution_count": null,
   "id": "05edec50-3d1c-445f-8723-a8cd46e7e46d",
   "metadata": {},
   "outputs": [],
   "source": []
  }
 ],
 "metadata": {
  "kernelspec": {
   "display_name": "bm",
   "language": "python",
   "name": "bm"
  },
  "language_info": {
   "codemirror_mode": {
    "name": "ipython",
    "version": 3
   },
   "file_extension": ".py",
   "mimetype": "text/x-python",
   "name": "python",
   "nbconvert_exporter": "python",
   "pygments_lexer": "ipython3",
   "version": "3.7.4"
  }
 },
 "nbformat": 4,
 "nbformat_minor": 5
}
