{
 "cells": [
  {
   "cell_type": "markdown",
   "id": "6d38903c",
   "metadata": {},
   "source": [
    "# Analysis of QM files"
   ]
  },
  {
   "cell_type": "markdown",
   "id": "9c0f6bb9",
   "metadata": {},
   "source": [
    "##### Separated QCORR full check analysis of successful terminations"
   ]
  },
  {
   "cell_type": "code",
   "execution_count": 1,
   "id": "e30557eb",
   "metadata": {},
   "outputs": [
    {
     "name": "stdout",
     "output_type": "stream",
     "text": [
      "\n",
      "-- Full check analysis --\n",
      "x  Different program used in the calculations:\n",
      "     * Gaussian 09, Revision A.02 in:\n",
      "       - TS_CH3HCH3\n",
      "       - CH4\n",
      "       - CO2_linear_4freqs\n",
      "     * Gaussian 16, Revision C.01 in:\n",
      "       - H_freq\n",
      "       - MeOH_G09\n",
      "x  Different grid_type used in the calculations:\n",
      "     * sg1 in:\n",
      "       - TS_CH3HCH3\n",
      "       - CH4\n",
      "       - CO2_linear_4freqs\n",
      "     * ultrafine in:\n",
      "       - H_freq\n",
      "     * fine in:\n",
      "       - MeOH_G09\n",
      "x  Different level_of_theory used in the calculations:\n",
      "     * B3LYP/3-21G in:\n",
      "       - TS_CH3HCH3\n",
      "     * M062X/3-21G in:\n",
      "       - CH4\n",
      "     * B3LYP/6-31G in:\n",
      "       - CO2_linear_4freqs\n",
      "     * M062X/def2TZVP in:\n",
      "       - H_freq\n",
      "     * PBE1PBE/CC-pVTZ in:\n",
      "       - MeOH_G09\n",
      "o  Same dispersion (none) used in all the calculations\n",
      "x  Different solvation used in the calculations:\n",
      "     * gas_phase in:\n",
      "       - TS_CH3HCH3\n",
      "       - CH4\n",
      "       - CO2_linear_4freqs\n",
      "       - H_freq\n",
      "     * scrf=(solvent=chloroform,pcm) in:\n",
      "       - MeOH_G09\n",
      "\n"
     ]
    },
    {
     "name": "stderr",
     "output_type": "stream",
     "text": [
      "RDKit WARNING: [16:07:33] Enabling RDKit 2019.09.3 jupyter extensions\n",
      "[16:07:33] Enabling RDKit 2019.09.3 jupyter extensions\n"
     ]
    }
   ],
   "source": [
    "# ** full check of json files can be done separately using the function qcorr.full_check(). It only\n",
    "# requires a collection of json files and it analyzes whether the calculations were done homogeneously\n",
    "# (i.e. same level of theory, grid size, program and version, solvation model and empirical dispersion)\n",
    "\n",
    "import os,glob\n",
    "from aqme.qcorr import full_check\n",
    "\n",
    "files=glob.glob(os.getcwd()+'/QCORR_4/*.json')\n",
    "destination_fullcheck = os.getcwd()+'/QCORR_4'\n",
    "\n",
    "# run the full check analyzer, with:\n",
    "# 1) Destination of the dat file generated (destination_fullcheck=w_dir_main)\n",
    "# 2) names of the JSON files to check (files='*.json')\n",
    "full_check(destination_fullcheck=destination_fullcheck,files=files)"
   ]
  },
  {
   "cell_type": "code",
   "execution_count": null,
   "id": "c0dbec57",
   "metadata": {},
   "outputs": [],
   "source": []
  },
  {
   "cell_type": "code",
   "execution_count": null,
   "id": "02dbde45-c5ae-4947-840a-2fbbecf3b22d",
   "metadata": {},
   "outputs": [],
   "source": []
  }
 ],
 "metadata": {
  "kernelspec": {
   "display_name": "Python 3 (ipykernel)",
   "language": "python",
   "name": "python3"
  },
  "language_info": {
   "codemirror_mode": {
    "name": "ipython",
    "version": 3
   },
   "file_extension": ".py",
   "mimetype": "text/x-python",
   "name": "python",
   "nbconvert_exporter": "python",
   "pygments_lexer": "ipython3",
   "version": "3.7.4"
  },
  "vscode": {
   "interpreter": {
    "hash": "6fd74c72106078714e0fce224080d73d80ec6931ebd33b284a64c665ffc716e5"
   }
  }
 },
 "nbformat": 4,
 "nbformat_minor": 5
}
