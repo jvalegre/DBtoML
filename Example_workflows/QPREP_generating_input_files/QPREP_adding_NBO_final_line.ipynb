{
 "cells": [
  {
   "cell_type": "markdown",
   "id": "67e982ee",
   "metadata": {},
   "source": [
    "# Preparation of QM input files"
   ]
  },
  {
   "cell_type": "markdown",
   "id": "13c7b151",
   "metadata": {},
   "source": [
    "##### QPREP input file preparation for Gaussian jobs with NBO final line"
   ]
  },
  {
   "cell_type": "code",
   "execution_count": 1,
   "id": "9b71e50d",
   "metadata": {},
   "outputs": [
    {
     "name": "stderr",
     "output_type": "stream",
     "text": [
      "RDKit WARNING: [16:10:33] Enabling RDKit 2019.09.3 jupyter extensions\n",
      "[16:10:33] Enabling RDKit 2019.09.3 jupyter extensions\n"
     ]
    },
    {
     "name": "stdout",
     "output_type": "stream",
     "text": [
      "o  Creating input files with suffix \"wb97xd-nbo\" \n",
      "\n",
      "AQME v 1.4.0 2022/12/07 16:10:33 \n",
      "Citation: AQME v 1.4.0, Alegre-Requena, J. V.; Sowndarya, S.; Perez-Soto, R.; Alturaifi, T. M.; Paton, R. S., 2022. https://github.com/jvalegre/aqme\n",
      "\n",
      "\n",
      "o  CH4 successfully processed at /home/svss/Project-DBcg-Molecules/aqme/Example_workflows/QPREP_generating_input_files/QCALC\n",
      "\n",
      "o  MeOH_NMR_charged successfully processed at /home/svss/Project-DBcg-Molecules/aqme/Example_workflows/QPREP_generating_input_files/QCALC\n",
      "\n",
      "o  MeOH_NMR successfully processed at /home/svss/Project-DBcg-Molecules/aqme/Example_workflows/QPREP_generating_input_files/QCALC\n",
      "\n",
      "\n",
      "Time QPREP: 0.01 seconds\n",
      "\n",
      "\n"
     ]
    },
    {
     "data": {
      "text/plain": [
       "<aqme.qprep.qprep at 0x7f0a3c44be50>"
      ]
     },
     "execution_count": 1,
     "metadata": {},
     "output_type": "execute_result"
    }
   ],
   "source": [
    "# do an NBO calc with a final line after coords (requiring Wyberg bond orders)\n",
    "\n",
    "import os\n",
    "from aqme.qprep import qprep\n",
    "\n",
    "# folder with input json files and their names (*.json to include all the json files in the folder)\n",
    "json_files = os.getcwd()+'/json_files/*.json'\n",
    "\n",
    "# run the QPREP module, with:\n",
    "# 1) Names of the files to get atoms and coordinates (files=json_files)\n",
    "# 2) Final line after the coordinates section (qm_end='$nbo bndidx $end')\n",
    "# 3) Keyword line(s) used in the inputs (qm_input='wb97xd/def2qzvpp scrf=(smd,solvent=acetonitrile)')\n",
    "# 4) Suffix to add to the file names (suffix='wb97xd-nbo')\n",
    "# 5) Program for the input file format (program='gaussian')\n",
    "# 6) Memory to use in the calculations (mem='16GB')\n",
    "# 7) Processors to use in the calcs (nprocs=8)\n",
    "print(f'o  Creating input files with suffix \"wb97xd-nbo\" \\n')\n",
    "qprep(files=json_files, qm_end='$nbo bndidx $end',\n",
    "            qm_input='pop=(nbo6read,savenbos) wb97xd/def2svp', suffix='wb97xd-nbo',\n",
    "            program='gaussian', mem='16GB', nprocs=8)"
   ]
  },
  {
   "cell_type": "code",
   "execution_count": null,
   "id": "24f27276",
   "metadata": {},
   "outputs": [],
   "source": []
  }
 ],
 "metadata": {
  "kernelspec": {
   "display_name": "bm",
   "language": "python",
   "name": "bm"
  },
  "language_info": {
   "codemirror_mode": {
    "name": "ipython",
    "version": 3
   },
   "file_extension": ".py",
   "mimetype": "text/x-python",
   "name": "python",
   "nbconvert_exporter": "python",
   "pygments_lexer": "ipython3",
   "version": "3.7.4"
  }
 },
 "nbformat": 4,
 "nbformat_minor": 5
}
