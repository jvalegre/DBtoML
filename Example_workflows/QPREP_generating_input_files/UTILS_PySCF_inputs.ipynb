{
 "cells": [
  {
   "cell_type": "markdown",
   "id": "bb197bf3",
   "metadata": {},
   "source": [
    "# Preparation of QM input files"
   ]
  },
  {
   "cell_type": "code",
   "execution_count": 1,
   "id": "c8495ba0",
   "metadata": {},
   "outputs": [],
   "source": [
    "##### Input preparation of PySCF jobs from json files"
   ]
  },
  {
   "cell_type": "code",
   "execution_count": 4,
   "id": "b73f85ed",
   "metadata": {},
   "outputs": [
    {
     "name": "stderr",
     "output_type": "stream",
     "text": [
      "RDKit WARNING: [16:14:29] Enabling RDKit 2019.09.3 jupyter extensions\n",
      "[16:14:29] Enabling RDKit 2019.09.3 jupyter extensions\n"
     ]
    },
    {
     "ename": "NameError",
     "evalue": "name 'gto' is not defined",
     "output_type": "error",
     "traceback": [
      "\u001b[0;31m---------------------------------------------------------------------------\u001b[0m",
      "\u001b[0;31mNameError\u001b[0m                                 Traceback (most recent call last)",
      "\u001b[0;32m/tmp/ipykernel_168779/2854013480.py\u001b[0m in \u001b[0;36m<module>\u001b[0;34m\u001b[0m\n\u001b[1;32m     39\u001b[0m \u001b[0;34m\u001b[0m\u001b[0m\n\u001b[1;32m     40\u001b[0m     \u001b[0;31m# creates mol object for the calculations\u001b[0m\u001b[0;34m\u001b[0m\u001b[0;34m\u001b[0m\u001b[0;34m\u001b[0m\u001b[0m\n\u001b[0;32m---> 41\u001b[0;31m     \u001b[0mmol\u001b[0m \u001b[0;34m=\u001b[0m \u001b[0mgto\u001b[0m\u001b[0;34m.\u001b[0m\u001b[0mM\u001b[0m\u001b[0;34m(\u001b[0m\u001b[0matom\u001b[0m\u001b[0;34m=\u001b[0m\u001b[0mcoord_input\u001b[0m\u001b[0;34m,\u001b[0m \u001b[0mbasis\u001b[0m\u001b[0;34m=\u001b[0m\u001b[0mbasis\u001b[0m\u001b[0;34m,\u001b[0m \u001b[0mcharge\u001b[0m\u001b[0;34m=\u001b[0m\u001b[0mcharge\u001b[0m\u001b[0;34m,\u001b[0m \u001b[0mspin\u001b[0m\u001b[0;34m=\u001b[0m\u001b[0mspin\u001b[0m\u001b[0;34m)\u001b[0m\u001b[0;34m\u001b[0m\u001b[0;34m\u001b[0m\u001b[0m\n\u001b[0m\u001b[1;32m     42\u001b[0m     \u001b[0mmol\u001b[0m\u001b[0;34m.\u001b[0m\u001b[0moutput\u001b[0m \u001b[0;34m=\u001b[0m \u001b[0;34mf'./{file.split(\".\")[0]}.log'\u001b[0m\u001b[0;34m\u001b[0m\u001b[0;34m\u001b[0m\u001b[0m\n\u001b[1;32m     43\u001b[0m     \u001b[0mmol\u001b[0m\u001b[0;34m.\u001b[0m\u001b[0mverbose\u001b[0m \u001b[0;34m=\u001b[0m \u001b[0;36m3\u001b[0m\u001b[0;34m\u001b[0m\u001b[0;34m\u001b[0m\u001b[0m\n",
      "\u001b[0;31mNameError\u001b[0m: name 'gto' is not defined"
     ]
    }
   ],
   "source": [
    "# run a PySCF single-point calculation with the DeepMind 21 (DM21) functional using the generated json files\n",
    "\n",
    "import os\n",
    "from aqme.utils import cclib_atoms_coords\n",
    "import json\n",
    "import glob\n",
    "\n",
    "# read json files\n",
    "initial_dir = os.getcwd()\n",
    "w_dir_main = 'json_files'\n",
    "os.chdir(w_dir_main)\n",
    "json_files = glob.glob('*.json')\n",
    "\n",
    "# run the PySCF calculations\n",
    "for file in json_files:\n",
    "    with open(file) as json_file:\n",
    "        cclib_data = json.load(json_file)\n",
    "\n",
    "    atom_types,cartesians = cclib_atoms_coords(cclib_data)\n",
    "\n",
    "    coord_input = ''\n",
    "    for i,atom in enumerate(atom_types):\n",
    "        if i != 0:\n",
    "            coord_input += ' '\n",
    "        coord_input += atom+' '\n",
    "            \n",
    "        for j,cart in enumerate(cartesians[i]):\n",
    "            coord_input += str(cart)\n",
    "            if j != 2:\n",
    "                coord_input += ' '\n",
    "            else:\n",
    "                if i != len(atom_types)-1:\n",
    "                    coord_input += ';'\n",
    "    \n",
    "    charge = cclib_data['properties']['charge']\n",
    "    mult = cclib_data['properties']['multiplicity']\n",
    "    spin = mult-1\n",
    "    basis = 'ccpvdz'\n",
    "\n",
    "    # creates mol object for the calculations\n",
    "    mol = gto.M(atom=coord_input, basis=basis, charge=charge, spin=spin)\n",
    "    mol.output = f'./{file.split(\".\")[0]}.log'\n",
    "    mol.verbose = 3\n",
    "    mol.build()\n",
    "\n",
    "    # runs the PySCF calculation\n",
    "    if spin == 0:\n",
    "        energy = mol.RKS().run(chkfile = 'expt0.chk', _numint = dm21.NeuralNumInt(dm21.Functional.DM21),\n",
    "                            conv_tol = 1E-6, conv_tol_grad = 1E-3)\n",
    "    else:\n",
    "        energy = mol.UKS().run(chkfile = 'expt0.chk', _numint = dm21.NeuralNumInt(dm21.Functional.DM21),\n",
    "                            conv_tol = 1E-6, conv_tol_grad = 1E-3) \n",
    "    \n",
    "    # print results in the LOG file specified in mol.output                       \n",
    "    energy.dump_scf_summary()\n",
    "    energy.spin_square()\n",
    "\n",
    "os.chdir(initial_dir)"
   ]
  },
  {
   "cell_type": "code",
   "execution_count": null,
   "id": "20ab9ebe-1b67-4926-94a6-69f19a300325",
   "metadata": {},
   "outputs": [],
   "source": []
  }
 ],
 "metadata": {
  "kernelspec": {
   "display_name": "bm",
   "language": "python",
   "name": "bm"
  },
  "language_info": {
   "codemirror_mode": {
    "name": "ipython",
    "version": 3
   },
   "file_extension": ".py",
   "mimetype": "text/x-python",
   "name": "python",
   "nbconvert_exporter": "python",
   "pygments_lexer": "ipython3",
   "version": "3.7.4"
  }
 },
 "nbformat": 4,
 "nbformat_minor": 5
}
