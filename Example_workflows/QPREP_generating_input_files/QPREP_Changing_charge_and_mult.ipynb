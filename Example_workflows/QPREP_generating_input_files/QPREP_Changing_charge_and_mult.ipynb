{
 "cells": [
  {
   "cell_type": "markdown",
   "id": "b5f83ba2",
   "metadata": {},
   "source": [
    "# Preparation of QM input files"
   ]
  },
  {
   "cell_type": "markdown",
   "id": "0916bffe",
   "metadata": {},
   "source": [
    "##### QPREP input file preparation for Gaussian with predefined charge and multiplicity"
   ]
  },
  {
   "cell_type": "code",
   "execution_count": 1,
   "id": "914639b3",
   "metadata": {},
   "outputs": [
    {
     "name": "stderr",
     "output_type": "stream",
     "text": [
      "RDKit WARNING: [16:10:40] Enabling RDKit 2019.09.3 jupyter extensions\n",
      "[16:10:40] Enabling RDKit 2019.09.3 jupyter extensions\n"
     ]
    },
    {
     "name": "stdout",
     "output_type": "stream",
     "text": [
      "o  Creating input files with suffix \"wb97xd-reduced\" \n",
      "\n",
      "AQME v 1.4.0 2022/12/07 16:10:40 \n",
      "Citation: AQME v 1.4.0, Alegre-Requena, J. V.; Sowndarya, S.; Perez-Soto, R.; Alturaifi, T. M.; Paton, R. S., 2022. https://github.com/jvalegre/aqme\n",
      "\n",
      "\n",
      "o  quinine_rdkit successfully processed at /home/svss/Project-DBcg-Molecules/aqme/Example_workflows/QPREP_generating_input_files/QCALC\n",
      "\n",
      "o  quinine_rdkit_charged successfully processed at /home/svss/Project-DBcg-Molecules/aqme/Example_workflows/QPREP_generating_input_files/QCALC\n",
      "\n",
      "\n",
      "Time QPREP: 0.03 seconds\n",
      "\n",
      "\n"
     ]
    },
    {
     "data": {
      "text/plain": [
       "<aqme.qprep.qprep at 0x7fa5d95ed590>"
      ]
     },
     "execution_count": 1,
     "metadata": {},
     "output_type": "execute_result"
    }
   ],
   "source": [
    "# calculate reduction potential from sdf files\n",
    "import os\n",
    "from aqme.qprep import qprep\n",
    "\n",
    "# folder with input sdf files and their names (*.sdf to include all the sdf files in the folder)\n",
    "sdf_files = os.getcwd()+'/sdf_files/*.sdf'\n",
    "\n",
    "\n",
    "# run the QPREP module, with:\n",
    "# 1) Names of the files to get atoms and coordinates (files=sdf_files)\n",
    "# 2) Set charge for the input files (charge=-1)\n",
    "# 3) Set multiplicity for the input files (mult=2)\n",
    "# 4) Keyword line(s) used in the inputs (qm_input='wb97xd/def2qzvpp scrf=(smd,solvent=acetonitrile)')\n",
    "# 5) Suffix to add to the file names (suffix='wb97xd-reduced')\n",
    "# 6) Program for the input file format (program='gaussian')\n",
    "# 7) Memory to use in the calculations (mem='16GB')\n",
    "# 8) Processors to use in the calcs (nprocs=8)\n",
    "print(f'o  Creating input files with suffix \"wb97xd-reduced\" \\n')\n",
    "qprep(files=sdf_files, charge=-1, mult=2,\n",
    "      qm_input='wb97xd/def2qzvpp scrf=(smd,solvent=acetonitrile)', suffix='wb97xd-reduced',\n",
    "      program='gaussian', mem='16GB', nprocs=8)"
   ]
  },
  {
   "cell_type": "code",
   "execution_count": null,
   "id": "053449ef",
   "metadata": {},
   "outputs": [],
   "source": []
  }
 ],
 "metadata": {
  "kernelspec": {
   "display_name": "Python 3 (ipykernel)",
   "language": "python",
   "name": "python3"
  },
  "language_info": {
   "codemirror_mode": {
    "name": "ipython",
    "version": 3
   },
   "file_extension": ".py",
   "mimetype": "text/x-python",
   "name": "python",
   "nbconvert_exporter": "python",
   "pygments_lexer": "ipython3",
   "version": "3.7.4"
  },
  "vscode": {
   "interpreter": {
    "hash": "6c100345108a7047ea96fae483cb64f49bdc23a8b225db90a5987a96959e820b"
   }
  }
 },
 "nbformat": 4,
 "nbformat_minor": 5
}
