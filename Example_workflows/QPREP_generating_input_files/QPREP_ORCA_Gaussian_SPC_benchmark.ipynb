{
 "cells": [
  {
   "cell_type": "markdown",
   "id": "d2203e8c",
   "metadata": {},
   "source": [
    "# Preparation of QM input files"
   ]
  },
  {
   "cell_type": "markdown",
   "id": "74ea020e",
   "metadata": {},
   "source": [
    "##### QPREP input files preparation of a benchmarking containing 3 levels of theory for Gaussian and 1 level of theory for ORCA input files"
   ]
  },
  {
   "cell_type": "code",
   "execution_count": 1,
   "id": "b8b3a68f",
   "metadata": {},
   "outputs": [
    {
     "name": "stderr",
     "output_type": "stream",
     "text": [
      "RDKit WARNING: [16:10:49] Enabling RDKit 2019.09.3 jupyter extensions\n",
      "[16:10:49] Enabling RDKit 2019.09.3 jupyter extensions\n"
     ]
    },
    {
     "name": "stdout",
     "output_type": "stream",
     "text": [
      "o  Creating input files with suffix \"wb97xd\" \n",
      "\n",
      "AQME v 1.4.0 2022/12/07 16:10:49 \n",
      "Citation: AQME v 1.4.0, Alegre-Requena, J. V.; Sowndarya, S.; Perez-Soto, R.; Alturaifi, T. M.; Paton, R. S., 2022. https://github.com/jvalegre/aqme\n",
      "\n",
      "\n",
      "o  H_freq successfully processed at /home/svss/Project-DBcg-Molecules/aqme/Example_workflows/QPREP_generating_input_files/QCALC\n",
      "\n",
      "o  CH4_charged successfully processed at /home/svss/Project-DBcg-Molecules/aqme/Example_workflows/QPREP_generating_input_files/QCALC\n",
      "\n",
      "o  CH4 successfully processed at /home/svss/Project-DBcg-Molecules/aqme/Example_workflows/QPREP_generating_input_files/QCALC\n",
      "\n",
      "\n",
      "Time QPREP: 0.01 seconds\n",
      "\n",
      "\n",
      "o  Creating input files with suffix \"m062x\" \n",
      "\n",
      "AQME v 1.4.0 2022/12/07 16:10:49 \n",
      "Citation: AQME v 1.4.0, Alegre-Requena, J. V.; Sowndarya, S.; Perez-Soto, R.; Alturaifi, T. M.; Paton, R. S., 2022. https://github.com/jvalegre/aqme\n",
      "\n",
      "\n",
      "o  H_freq successfully processed at /home/svss/Project-DBcg-Molecules/aqme/Example_workflows/QPREP_generating_input_files/QCALC\n",
      "\n",
      "o  CH4_charged successfully processed at /home/svss/Project-DBcg-Molecules/aqme/Example_workflows/QPREP_generating_input_files/QCALC\n",
      "\n",
      "o  CH4 successfully processed at /home/svss/Project-DBcg-Molecules/aqme/Example_workflows/QPREP_generating_input_files/QCALC\n",
      "\n",
      "\n",
      "Time QPREP: 0.0 seconds\n",
      "\n",
      "\n",
      "o  Creating input files with suffix \"b3lyp\" \n",
      "\n",
      "AQME v 1.4.0 2022/12/07 16:10:49 \n",
      "Citation: AQME v 1.4.0, Alegre-Requena, J. V.; Sowndarya, S.; Perez-Soto, R.; Alturaifi, T. M.; Paton, R. S., 2022. https://github.com/jvalegre/aqme\n",
      "\n",
      "\n",
      "o  H_freq successfully processed at /home/svss/Project-DBcg-Molecules/aqme/Example_workflows/QPREP_generating_input_files/QCALC\n",
      "\n",
      "o  CH4_charged successfully processed at /home/svss/Project-DBcg-Molecules/aqme/Example_workflows/QPREP_generating_input_files/QCALC\n",
      "\n",
      "o  CH4 successfully processed at /home/svss/Project-DBcg-Molecules/aqme/Example_workflows/QPREP_generating_input_files/QCALC\n",
      "\n",
      "\n",
      "Time QPREP: 0.0 seconds\n",
      "\n",
      "\n",
      "o  Creating input files with suffix \"DLPNO\" \n",
      "\n",
      "AQME v 1.4.0 2022/12/07 16:10:49 \n",
      "Citation: AQME v 1.4.0, Alegre-Requena, J. V.; Sowndarya, S.; Perez-Soto, R.; Alturaifi, T. M.; Paton, R. S., 2022. https://github.com/jvalegre/aqme\n",
      "\n",
      "\n",
      "o  H_freq successfully processed at /home/svss/Project-DBcg-Molecules/aqme/Example_workflows/QPREP_generating_input_files/QCALC\n",
      "\n",
      "o  CH4_charged successfully processed at /home/svss/Project-DBcg-Molecules/aqme/Example_workflows/QPREP_generating_input_files/QCALC\n",
      "\n",
      "o  CH4 successfully processed at /home/svss/Project-DBcg-Molecules/aqme/Example_workflows/QPREP_generating_input_files/QCALC\n",
      "\n",
      "\n",
      "Time QPREP: 0.0 seconds\n",
      "\n",
      "\n"
     ]
    }
   ],
   "source": [
    "import os\n",
    "from aqme.qprep import qprep\n",
    "\n",
    "# folder with input log files and their names (*.log to include all the log files in the folder)\n",
    "log_files = os.getcwd()+'/log_files/*.log'\n",
    "\n",
    "# specify a list of lists with level of theory, suffix and program used to generate input files\n",
    "# 1) Three levels of theory for Gaussian calculations\n",
    "lot_suffix_program = [['wb97xd/def2qzvpp scrf=(smd,solvent=acetonitrile)','wb97xd','gaussian']]\n",
    "lot_suffix_program.append(['m062x/def2qzvpp emp=gd3 scrf=(smd,solvent=acetonitrile)','m062x','gaussian'])\n",
    "lot_suffix_program.append(['b3lyp/6-31G*','b3lyp','gaussian'])\n",
    "\n",
    "# 2) A DLPNO example for ORCA calculations\n",
    "ORCA_SP = 'Extrapolate(2/3,cc) def2/J cc-pVTZ/C DLPNO-CCSD(T) NormalPNO TightSCF RIJCOSX GridX7\\n'\n",
    "ORCA_SP += '%cpcm\\n'\n",
    "ORCA_SP += 'smd true\\n'\n",
    "ORCA_SP += 'SMDsolvent \\\"CH2Cl2\\\"\\n'\n",
    "ORCA_SP += 'end\\n'\n",
    "ORCA_SP += '%method\\n'\n",
    "ORCA_SP += 'Grid 3\\n'\n",
    "ORCA_SP += 'FinalGrid 5\\n'\n",
    "ORCA_SP += 'end\\n'\n",
    "ORCA_SP += '%scf maxiter 500\\n'\n",
    "ORCA_SP += 'end\\n'\n",
    "ORCA_SP += '% mdci\\n'\n",
    "ORCA_SP += 'Density None\\n'\n",
    "ORCA_SP += 'end\\n'\n",
    "ORCA_SP += '% elprop\\n'\n",
    "ORCA_SP += 'Dipole False\\n'\n",
    "ORCA_SP += 'end'\n",
    "\n",
    "lot_suffix_program.append([ORCA_SP,'DLPNO','orca'])\n",
    "\n",
    "# run the QPREP module, with:\n",
    "# 1) Names of the files to get atoms and coordinates (files=log_files)\n",
    "# 2) Keyword line(s) used in the inputs (qm_input=level[0])\n",
    "# 3) Suffix to add to the file names (suffix=level[1])\n",
    "# 4) Program for the input file format (program=level[2])\n",
    "# 5) Memory to use in the calculations (mem='4GB')\n",
    "# 6) Processors to use in the calcs (nprocs=2)\n",
    "for level in lot_suffix_program:\n",
    "    print(f'o  Creating input files with suffix \"{level[1]}\" \\n')\n",
    "    qprep(files=log_files, \n",
    "          qm_input=level[0], suffix=level[1], program=level[2], mem='4GB', nprocs=2)\n"
   ]
  },
  {
   "cell_type": "code",
   "execution_count": null,
   "id": "be59b4c1",
   "metadata": {},
   "outputs": [],
   "source": []
  }
 ],
 "metadata": {
  "kernelspec": {
   "display_name": "Python 3 (ipykernel)",
   "language": "python",
   "name": "python3"
  },
  "language_info": {
   "codemirror_mode": {
    "name": "ipython",
    "version": 3
   },
   "file_extension": ".py",
   "mimetype": "text/x-python",
   "name": "python",
   "nbconvert_exporter": "python",
   "pygments_lexer": "ipython3",
   "version": "3.7.4"
  },
  "vscode": {
   "interpreter": {
    "hash": "6c100345108a7047ea96fae483cb64f49bdc23a8b225db90a5987a96959e820b"
   }
  }
 },
 "nbformat": 4,
 "nbformat_minor": 5
}
