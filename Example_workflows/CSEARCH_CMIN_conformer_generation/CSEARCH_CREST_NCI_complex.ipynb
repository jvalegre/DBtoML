{
 "cells": [
  {
   "cell_type": "markdown",
   "id": "60c5f820",
   "metadata": {},
   "source": [
    "#### SMILES input of a noncovalent isopentane--water complex, create Gaussian input files, CSEARCH with CREST"
   ]
  },
  {
   "cell_type": "markdown",
   "id": "fcb898eb",
   "metadata": {},
   "source": [
    "###### Step 1: CSEARCH conformational sampling (creates SDF files)"
   ]
  },
  {
   "cell_type": "code",
   "execution_count": 1,
   "id": "244c610c",
   "metadata": {},
   "outputs": [
    {
     "name": "stderr",
     "output_type": "stream",
     "text": [
      "RDKit WARNING: [15:46:18] Enabling RDKit 2019.09.3 jupyter extensions\n",
      "[15:46:18] Enabling RDKit 2019.09.3 jupyter extensions\n"
     ]
    },
    {
     "name": "stdout",
     "output_type": "stream",
     "text": [
      "True\n",
      "AQME v 1.4.0 2022/12/07 15:46:18 \n",
      "Citation: AQME v 1.4.0, Alegre-Requena, J. V.; Sowndarya, S.; Perez-Soto, R.; Alturaifi, T. M.; Paton, R. S., 2022. https://github.com/jvalegre/aqme\n",
      "\n",
      "\n",
      "\n",
      "Starting CSEARCH with 1 job(s) (SDF, XYZ, CSV, etc. files might contain multiple jobs/structures inside)\n",
      "\n",
      "\n",
      "\n",
      "   ----- isopent-water-complex -----\n",
      "\n",
      "\n",
      "Time CSEARCH: 139.04 seconds\n",
      "\n",
      "\n"
     ]
    },
    {
     "data": {
      "text/plain": [
       "<aqme.csearch.base.csearch at 0x7f54a27e1310>"
      ]
     },
     "execution_count": 1,
     "metadata": {},
     "output_type": "execute_result"
    }
   ],
   "source": [
    "import glob                                                                                                                                                     \n",
    "from aqme.csearch import csearch\n",
    "from aqme.qprep import qprep\n",
    "\n",
    "name = 'isopent-water-complex'\n",
    "smi = 'CCC(C)C.O'\n",
    "\n",
    "# run CSEARCH conformational sampling, specifying:\n",
    "# 1) SMILES string (smi=smi)\n",
    "# 2) Name for the output SDF files (name=name)\n",
    "# 3) CREST sampling (program='crest')\n",
    "# 4) Additional CREST keywords (crest_keywords='--nci')\n",
    "# 5) Include CREGEN post-analysis (cregen=True)\n",
    "# 6) Additional CREGEN keywords (cregen_keywords='--ewin 3')\n",
    "csearch(smi=smi,\n",
    "        name=name,program='crest',crest_keywords='--nci',\n",
    "        cregen=True,cregen_keywords='--ewin 3')"
   ]
  },
  {
   "cell_type": "markdown",
   "id": "c879ea0e",
   "metadata": {},
   "source": [
    "###### Step 2: Writing Gaussian input files with the sdf obtained from CSEARCH"
   ]
  },
  {
   "cell_type": "code",
   "execution_count": 2,
   "id": "0ec8ef82",
   "metadata": {},
   "outputs": [
    {
     "name": "stdout",
     "output_type": "stream",
     "text": [
      "True\n",
      "AQME v 1.4.0 2022/12/07 15:46:18 \n",
      "Citation: AQME v 1.4.0, Alegre-Requena, J. V.; Sowndarya, S.; Perez-Soto, R.; Alturaifi, T. M.; Paton, R. S., 2022. https://github.com/jvalegre/aqme\n",
      "\n",
      "\n",
      "o  isopent-water-complex_crest successfully processed at /home/svss/Project-DBcg-Molecules/aqme/Example_workflows/CSEARCH_CMIN_conformer_generation/QCALC\n",
      "\n",
      "\n",
      "Time QPREP: 0.13 seconds\n",
      "\n",
      "\n"
     ]
    },
    {
     "data": {
      "text/plain": [
       "<aqme.qprep.qprep at 0x7f525a31d150>"
      ]
     },
     "execution_count": 2,
     "metadata": {},
     "output_type": "execute_result"
    }
   ],
   "source": [
    "# set SDF filenames and directory where the new com files will be created\n",
    "sdf_rdkit_files = glob.glob(f'CSEARCH/*.sdf')\n",
    "\n",
    "# run QPREP input files generator, with:\n",
    "# 1) Files to convert (files=file)\n",
    "# 2) QM program for the input (program='gaussian')\n",
    "# 3) Keyword line for the Gaussian inputs (qm_input='wb97xd/6-31+G* opt freq')\n",
    "# 4) Memory to use in the calculations (mem='24GB')\n",
    "# 5) Processors to use in the calcs (nprocs=8)\n",
    "qprep(files=sdf_rdkit_files,program='gaussian',\n",
    "        qm_input='wb97xd/6-31+G* opt freq',mem='24GB',nprocs=8)"
   ]
  },
  {
   "cell_type": "code",
   "execution_count": null,
   "id": "a3413b9d",
   "metadata": {},
   "outputs": [],
   "source": []
  }
 ],
 "metadata": {
  "interpreter": {
   "hash": "8aa3fe90e464923406f5eccc2b73c2c346150d55ceabc9491937b00a06e4c2ce"
  },
  "kernelspec": {
   "display_name": "bm",
   "language": "python",
   "name": "bm"
  },
  "language_info": {
   "codemirror_mode": {
    "name": "ipython",
    "version": 3
   },
   "file_extension": ".py",
   "mimetype": "text/x-python",
   "name": "python",
   "nbconvert_exporter": "python",
   "pygments_lexer": "ipython3",
   "version": "3.7.4"
  }
 },
 "nbformat": 4,
 "nbformat_minor": 5
}
