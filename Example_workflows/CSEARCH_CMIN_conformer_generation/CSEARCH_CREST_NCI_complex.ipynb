{
 "cells": [
  {
   "cell_type": "markdown",
   "id": "1f51cda5-ce4e-4d2f-8a30-0a9db40f0350",
   "metadata": {},
   "source": [
    "#### SMILES input of a noncovalent isopentane--water complex, create Gaussian input files, CSEARCH with CREST"
   ]
  },
  {
   "cell_type": "markdown",
   "id": "4bdef8fd",
   "metadata": {},
   "source": [
    "###### Step 1: CSEARCH conformational sampling (creates SDF files)"
   ]
  },
  {
   "cell_type": "code",
   "execution_count": null,
   "id": "fabd74c4-a1aa-495b-8a05-ab9cf9f77a57",
   "metadata": {},
   "outputs": [],
   "source": [
    "import os, glob\n",
    "from pathlib import Path                                                                                                                                                          \n",
    "from aqme.csearch import csearch\n",
    "from aqme.qprep import qprep\n",
    "\n",
    "name = 'isopent-water-complex'\n",
    "smi = 'CCC(C)C.O'\n",
    "w_dir_main = Path(os.getcwd())\n",
    "sdf_path = w_dir_main.joinpath(name)\n",
    "\n",
    "# run CSEARCH conformational sampling, specifying:\n",
    "# 1) Working directory (w_dir_main=w_dir_main)\n",
    "# 2) PATH to create the new SDF files (destination=sdf_path)\n",
    "# 3) SMILES string (smi=smi)\n",
    "# 4) Name for the output SDF files (name=name)\n",
    "# 5) CREST sampling (program='crest')\n",
    "# 6) Additional CREST keywords (crest_keywords='--nci')\n",
    "# 7) Include CREGEN post-analysis (cregen=True)\n",
    "# 8) Additional CREGEN keywords (cregen_keywords='--ewin 3')\n",
    "csearch(w_dir_main=w_dir_main,destination=sdf_path,smi=smi,\n",
    "        name=name,program='crest',crest_keywords='--nci',\n",
    "        cregen=True,cregen_keywords='--ewin 3')"
   ]
  },
  {
   "cell_type": "markdown",
   "id": "adb45832",
   "metadata": {},
   "source": [
    "###### Step 2: Writing Gaussian input files with the sdf obtained from CSEARCH"
   ]
  },
  {
   "cell_type": "code",
   "execution_count": null,
   "id": "94128683-c1cb-4cb8-830a-13b8dd63c4b6",
   "metadata": {},
   "outputs": [],
   "source": [
    "# set SDF filenames and directory where the new com files will be created\n",
    "com_path = sdf_path.joinpath(f'com_files')\n",
    "sdf_rdkit_files = glob.glob(f'{sdf_path}/*.sdf')\n",
    "\n",
    "# run QPREP input files generator, with:\n",
    "# 1) Working directory (w_dir_main=sdf_path)\n",
    "# 2) PATH to create the new SDF files (destination=com_path)\n",
    "# 3) Files to convert (files=file)\n",
    "# 4) QM program for the input (program='gaussian')\n",
    "# 5) Keyword line for the Gaussian inputs (qm_input='wb97xd/6-31+G* opt freq')\n",
    "# 6) Memory to use in the calculations (mem='24GB')\n",
    "# 7) Processors to use in the calcs (nprocs=8)\n",
    "qprep(w_dir_main=sdf_path,destination=com_path,files=sdf_rdkit_files,program='gaussian',\n",
    "        qm_input='wb97xd/6-31+G* opt freq',mem='24GB',nprocs=8)"
   ]
  }
 ],
 "metadata": {
  "interpreter": {
   "hash": "8aa3fe90e464923406f5eccc2b73c2c346150d55ceabc9491937b00a06e4c2ce"
  },
  "kernelspec": {
   "display_name": "bm",
   "language": "python",
   "name": "python3"
  },
  "language_info": {
   "codemirror_mode": {
    "name": "ipython",
    "version": 3
   },
   "file_extension": ".py",
   "mimetype": "text/x-python",
   "name": "python",
   "nbconvert_exporter": "python",
   "pygments_lexer": "ipython3",
   "version": "3.7.9"
  }
 },
 "nbformat": 4,
 "nbformat_minor": 5
}
