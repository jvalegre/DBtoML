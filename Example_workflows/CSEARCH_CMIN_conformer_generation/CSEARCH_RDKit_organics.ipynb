{
 "cells": [
  {
   "cell_type": "markdown",
   "id": "4ad51459",
   "metadata": {},
   "source": [
    "#### Organic molecule with SMILES input, CSEARCH performs conformational sampling with RDKit, QPREP creates Gaussian input files"
   ]
  },
  {
   "cell_type": "markdown",
   "id": "76aa65c9",
   "metadata": {},
   "source": [
    "###### Step 1: CSEARCH conformational sampling (creates SDF files)"
   ]
  },
  {
   "cell_type": "code",
   "execution_count": null,
   "id": "ca2324a4",
   "metadata": {},
   "outputs": [],
   "source": [
    "import os, glob\n",
    "from pathlib import Path\n",
    "from aqme.csearch import csearch\n",
    "from aqme.qprep import qprep\n",
    "\n",
    "# set working directory, SDF creation folder, name and SMILES string\n",
    "name = 'quinine'\n",
    "smi = 'COC1=CC2=C(C=CN=C2C=C1)[C@H]([C@@H]3C[C@@H]4CCN3C[C@@H]4C=C)O'\n",
    "w_dir_main = Path(os.getcwd())\n",
    "sdf_path = w_dir_main.joinpath(name)\n",
    "\n",
    "# run CSEARCH conformational sampling, specifying:\n",
    "# 1) Working directory (w_dir_main=w_dir_main)\n",
    "# 2) PATH to create the new SDF files (destination=sdf_path)\n",
    "# 3) RDKit sampling (program='rdkit')\n",
    "# 4) SMILES string (smi=smi)\n",
    "# 5) Name for the output SDF files (name=name)\n",
    "csearch(w_dir_main=w_dir_main,destination=sdf_path,\n",
    "        program='rdkit',smi=smi,name=name)"
   ]
  },
  {
   "cell_type": "markdown",
   "id": "c70d7dbf",
   "metadata": {},
   "source": [
    "###### Step 2: Writing Gaussian input files with the SDF obtained from CSEARCH"
   ]
  },
  {
   "cell_type": "code",
   "execution_count": null,
   "id": "d53a6f6f",
   "metadata": {},
   "outputs": [],
   "source": [
    "# set SDF filenames and directory where the new com files will be created\n",
    "com_path = sdf_path.joinpath(f'com_files')\n",
    "sdf_rdkit_files = glob.glob(f'{sdf_path}/*.sdf')\n",
    "\n",
    "# run QPREP input files generator, with:\n",
    "# 1) Working directory (w_dir_main=sdf_path)\n",
    "# 2) PATH to create the new SDF files (destination=com_path)\n",
    "# 3) Files to convert (files=sdf_rdkit_files)\n",
    "# 4) QM program for the input (program='gaussian')\n",
    "# 5) Keyword line for the Gaussian inputs (qm_input='wb97xd/6-31+G* opt freq')\n",
    "# 6) Memory to use in the calculations (mem='24GB')\n",
    "# 7) Processors to use in the calcs (nprocs=8)\n",
    "qprep(w_dir_main=sdf_path,destination=com_path,files=sdf_rdkit_files,program='gaussian',\n",
    "        qm_input='wb97xd/6-31+G* opt freq',mem='24GB',nprocs=8)\n",
    " "
   ]
  },
  {
   "cell_type": "markdown",
   "id": "72062080",
   "metadata": {},
   "source": [
    "###### Bonus 1: using ORCA instead of Gaussian in QPREP"
   ]
  },
  {
   "cell_type": "code",
   "execution_count": null,
   "id": "cbdb5c3a",
   "metadata": {},
   "outputs": [],
   "source": [
    "# Only need to change the qm_input and program options.\n",
    "# Multiple lines are allowed. For example, this is the input file of a TS calculation:\n",
    "ORCA_input = 'BP86 def2-SVP def2/J\\n'\n",
    "ORCA_input += '%geom\\n'\n",
    "ORCA_input += 'Calc_Hess true\\n'\n",
    "ORCA_input += 'Recalc_Hess 5\\n'\n",
    "ORCA_input += 'end'\n",
    "\n",
    "qprep(w_dir_main=sdf_path,destination=com_path,files=sdf_rdkit_files,program='orca',\n",
    "        qm_input=ORCA_input,mem='4GB',nprocs=8)"
   ]
  },
  {
   "cell_type": "markdown",
   "id": "40799166",
   "metadata": {},
   "source": [
    "###### Bonus 2: using a CSV with many SMILES"
   ]
  },
  {
   "cell_type": "code",
   "execution_count": null,
   "id": "2ddd295a",
   "metadata": {},
   "outputs": [],
   "source": [
    "import os, glob\n",
    "from pathlib import Path\n",
    "from aqme.csearch import csearch\n",
    "from aqme.qprep import qprep\n",
    "\n",
    "# Ideal for ML or big data projects, only need to replace smi and name with CSV input\n",
    "csv_input = 'ML_test.csv'\n",
    "sdf_folder = 'ML_test'\n",
    "w_dir_main = Path(os.getcwd())\n",
    "sdf_path = w_dir_main.joinpath(sdf_folder)\n",
    "\n",
    "# create conformers for all the entries in the CSV\n",
    "csearch(w_dir_main=w_dir_main,destination=sdf_path,\n",
    "        program='rdkit',input=csv_input)\n",
    "\n",
    "# set SDF filenames and directory where the new com files will be created\n",
    "com_path = sdf_path.joinpath(f'com_files')\n",
    "sdf_rdkit_files = glob.glob(f'{sdf_path}/*.sdf')\n",
    "\n",
    "# create COM files\n",
    "qprep(w_dir_main=sdf_path,destination=com_path,files=sdf_rdkit_files,program='gaussian',\n",
    "        qm_input='wb97xd/6-31+G* opt freq',mem='24GB',nprocs=8)"
   ]
  },
  {
   "cell_type": "markdown",
   "id": "7a4564f0",
   "metadata": {},
   "source": [
    "###### Bonus 3: If you want to use the same functions using a YAML file that stores all the variables"
   ]
  },
  {
   "cell_type": "code",
   "execution_count": null,
   "id": "aa038ef9",
   "metadata": {},
   "outputs": [],
   "source": [
    "# to load the variables from a YAML file, use the varfile option\n",
    "csearch(varfile='FILENAME.yaml')\n",
    "\n",
    "# for each option, specify it in the YAML file as follows:\n",
    "# program='rdkit' --> program: 'rdkit'\n",
    "# name='quinine' --> name: 'quinine'\n",
    "# etc"
   ]
  },
  {
   "cell_type": "markdown",
   "id": "e6949af6",
   "metadata": {},
   "source": [
    "###### Bonus 4: If you want to use the same functions through command lines"
   ]
  },
  {
   "cell_type": "code",
   "execution_count": null,
   "id": "c496424d",
   "metadata": {},
   "outputs": [],
   "source": [
    "csearch(w_dir_main=w_dir_main,destination=sdf_path,\n",
    "        smi=smi,name='quinine',program='rdkit')\n",
    "\n",
    "# for each option, specify it in the command line as follows:\n",
    "# program='rdkit' --> --program 'rdkit'\n",
    "# name='quinine' --> --name quinine\n",
    "# etc\n",
    "# for example: python -m aqme --program rdkit --smi COC1=CC2=C(C=CN=C2C=C1)[C@H]([C@@H]3C[C@@H]4CCN3C[C@@H]4C=C)O --name quinine"
   ]
  }
 ],
 "metadata": {
  "interpreter": {
   "hash": "8aa3fe90e464923406f5eccc2b73c2c346150d55ceabc9491937b00a06e4c2ce"
  },
  "kernelspec": {
   "display_name": "bm",
   "language": "python",
   "name": "python3"
  },
  "language_info": {
   "codemirror_mode": {
    "name": "ipython",
    "version": 3
   },
   "file_extension": ".py",
   "mimetype": "text/x-python",
   "name": "python",
   "nbconvert_exporter": "python",
   "pygments_lexer": "ipython3",
   "version": "3.9.12"
  }
 },
 "nbformat": 4,
 "nbformat_minor": 5
}
