{
 "cells": [
  {
   "cell_type": "markdown",
   "id": "66cd4957",
   "metadata": {},
   "source": [
    "#### Organic molecule with SMILES input, CSEARCH performs conformational sampling with RDKit, QPREP creates Gaussian input files"
   ]
  },
  {
   "cell_type": "markdown",
   "id": "a56bc89b",
   "metadata": {},
   "source": [
    "###### Step 1: CSEARCH conformational sampling (creates SDF files)"
   ]
  },
  {
   "cell_type": "code",
   "execution_count": 1,
   "id": "47ca9bd1",
   "metadata": {},
   "outputs": [
    {
     "name": "stderr",
     "output_type": "stream",
     "text": [
      "RDKit WARNING: [14:39:14] Enabling RDKit 2019.09.3 jupyter extensions\n",
      "[14:39:14] Enabling RDKit 2019.09.3 jupyter extensions\n"
     ]
    },
    {
     "name": "stdout",
     "output_type": "stream",
     "text": [
      "True\n",
      "AQME v 1.4.0 2022/12/07 14:39:14 \n",
      "Citation: AQME v 1.4.0, Alegre-Requena, J. V.; Sowndarya, S.; Perez-Soto, R.; Alturaifi, T. M.; Paton, R. S., 2022. https://github.com/jvalegre/aqme\n",
      "\n",
      "\n",
      "\n",
      "Starting CSEARCH with 1 job(s) (SDF, XYZ, CSV, etc. files might contain multiple jobs/structures inside)\n",
      "\n",
      "\n",
      "\n",
      "   ----- quinine -----\n",
      "\n",
      "\n",
      "o  Applying filters to initial conformers\n",
      "\n",
      "\n",
      "Time CSEARCH: 28.12 seconds\n",
      "\n",
      "\n"
     ]
    },
    {
     "data": {
      "text/plain": [
       "<aqme.csearch.base.csearch at 0x7f2de1ef9310>"
      ]
     },
     "execution_count": 1,
     "metadata": {},
     "output_type": "execute_result"
    }
   ],
   "source": [
    "import os, glob\n",
    "from pathlib import Path\n",
    "from aqme.csearch import csearch\n",
    "from aqme.qprep import qprep\n",
    "\n",
    "# set working directory, SDF creation folder, name and SMILES string\n",
    "name = 'quinine'\n",
    "smi = 'COC1=CC2=C(C=CN=C2C=C1)[C@H]([C@@H]3C[C@@H]4CCN3C[C@@H]4C=C)O'\n",
    "w_dir_main = Path(os.getcwd())\n",
    "sdf_path = w_dir_main.joinpath(name)\n",
    "\n",
    "# run CSEARCH conformational sampling, specifying:\n",
    "# 1) PATH to create the new SDF files (destination=sdf_path)\n",
    "# 2) RDKit sampling (program='rdkit')\n",
    "# 3) SMILES string (smi=smi)\n",
    "# 4) Name for the output SDF files (name=name)\n",
    "csearch(destination=sdf_path,program='rdkit',smi=smi,name=name)"
   ]
  },
  {
   "cell_type": "markdown",
   "id": "69f3966b",
   "metadata": {},
   "source": [
    "###### Step 2: Writing Gaussian input files with the SDF obtained from CSEARCH"
   ]
  },
  {
   "cell_type": "code",
   "execution_count": 2,
   "id": "82746db7",
   "metadata": {},
   "outputs": [
    {
     "name": "stdout",
     "output_type": "stream",
     "text": [
      "True\n",
      "AQME v 1.4.0 2022/12/07 14:39:14 \n",
      "Citation: AQME v 1.4.0, Alegre-Requena, J. V.; Sowndarya, S.; Perez-Soto, R.; Alturaifi, T. M.; Paton, R. S., 2022. https://github.com/jvalegre/aqme\n",
      "\n",
      "\n",
      "o  quinine_rdkit successfully processed at /home/svss/Project-DBcg-Molecules/aqme/Example_workflows/CSEARCH_CMIN_conformer_generation/quinine/com_files\n",
      "\n",
      "\n",
      "Time QPREP: 0.03 seconds\n",
      "\n",
      "\n"
     ]
    },
    {
     "data": {
      "text/plain": [
       "<aqme.qprep.qprep at 0x7f2b98fecc90>"
      ]
     },
     "execution_count": 2,
     "metadata": {},
     "output_type": "execute_result"
    }
   ],
   "source": [
    "# set SDF filenames and directory where the new com files will be created\n",
    "com_path = sdf_path.joinpath(f'com_files')\n",
    "sdf_rdkit_files = glob.glob(f'{sdf_path}/*.sdf')\n",
    "\n",
    "# run QPREP input files generator, with:\n",
    "# 1) PATH to create the new SDF files (destination=com_path)\n",
    "# 2) Files to convert (files=sdf_rdkit_files)\n",
    "# 3) QM program for the input (program='gaussian')\n",
    "# 4) Keyword line for the Gaussian inputs (qm_input='wb97xd/6-31+G* opt freq')\n",
    "# 5) Memory to use in the calculations (mem='24GB')\n",
    "# 6) Processors to use in the calcs (nprocs=8)\n",
    "qprep(destination=com_path,files=sdf_rdkit_files,program='gaussian',\n",
    "        qm_input='wb97xd/6-31+G* opt freq',mem='24GB',nprocs=8)\n",
    " "
   ]
  },
  {
   "cell_type": "markdown",
   "id": "4872fe4c",
   "metadata": {},
   "source": [
    "###### Bonus 1: using ORCA instead of Gaussian in QPREP"
   ]
  },
  {
   "cell_type": "code",
   "execution_count": 3,
   "id": "a25217fd",
   "metadata": {},
   "outputs": [
    {
     "name": "stdout",
     "output_type": "stream",
     "text": [
      "True\n",
      "AQME v 1.4.0 2022/12/07 14:39:14 \n",
      "Citation: AQME v 1.4.0, Alegre-Requena, J. V.; Sowndarya, S.; Perez-Soto, R.; Alturaifi, T. M.; Paton, R. S., 2022. https://github.com/jvalegre/aqme\n",
      "\n",
      "\n",
      "o  quinine_rdkit successfully processed at /home/svss/Project-DBcg-Molecules/aqme/Example_workflows/CSEARCH_CMIN_conformer_generation/quinine/com_files\n",
      "\n",
      "\n",
      "Time QPREP: 0.04 seconds\n",
      "\n",
      "\n"
     ]
    },
    {
     "data": {
      "text/plain": [
       "<aqme.qprep.qprep at 0x7f2dbd566350>"
      ]
     },
     "execution_count": 3,
     "metadata": {},
     "output_type": "execute_result"
    }
   ],
   "source": [
    "# Only need to change the qm_input and program options.\n",
    "# Multiple lines are allowed. For example, this is the input file of a TS calculation:\n",
    "ORCA_input = 'BP86 def2-SVP def2/J\\n'\n",
    "ORCA_input += '%geom\\n'\n",
    "ORCA_input += 'Calc_Hess true\\n'\n",
    "ORCA_input += 'Recalc_Hess 5\\n'\n",
    "ORCA_input += 'end'\n",
    "\n",
    "qprep(destination=com_path,files=sdf_rdkit_files,program='orca',\n",
    "        qm_input=ORCA_input,mem='4GB',nprocs=8)"
   ]
  },
  {
   "cell_type": "markdown",
   "id": "2d81c59d",
   "metadata": {},
   "source": [
    "###### Bonus 2: using a CSV with many SMILES"
   ]
  },
  {
   "cell_type": "code",
   "execution_count": 4,
   "id": "ba3ff094",
   "metadata": {},
   "outputs": [
    {
     "name": "stdout",
     "output_type": "stream",
     "text": [
      "True\n",
      "AQME v 1.4.0 2022/12/07 14:39:14 \n",
      "Citation: AQME v 1.4.0, Alegre-Requena, J. V.; Sowndarya, S.; Perez-Soto, R.; Alturaifi, T. M.; Paton, R. S., 2022. https://github.com/jvalegre/aqme\n",
      "\n",
      "\n",
      "\n",
      "Starting CSEARCH with 5 job(s) (SDF, XYZ, CSV, etc. files might contain multiple jobs/structures inside)\n",
      "\n",
      "\n",
      "\n",
      "   ----- Me -----\n",
      "\n",
      "\n",
      "o  Applying filters to initial conformers\n",
      "\n",
      "\n",
      "   ----- Et -----\n",
      "\n",
      "\n",
      "o  Applying filters to initial conformers\n",
      "\n",
      "\n",
      "   ----- Prop -----\n",
      "\n",
      "\n",
      "o  Applying filters to initial conformers\n",
      "\n",
      "\n",
      "   ----- Bu -----\n",
      "\n",
      "\n",
      "o  Applying filters to initial conformers\n",
      "\n",
      "\n",
      "   ----- Pent -----\n",
      "\n",
      "\n",
      "o  Applying filters to initial conformers\n",
      "\n",
      "\n",
      "Time CSEARCH: 1.44 seconds\n",
      "\n",
      "\n",
      "True\n",
      "AQME v 1.4.0 2022/12/07 14:39:14 \n",
      "Citation: AQME v 1.4.0, Alegre-Requena, J. V.; Sowndarya, S.; Perez-Soto, R.; Alturaifi, T. M.; Paton, R. S., 2022. https://github.com/jvalegre/aqme\n",
      "\n",
      "\n",
      "o  Me_rdkit successfully processed at /home/svss/Project-DBcg-Molecules/aqme/Example_workflows/CSEARCH_CMIN_conformer_generation/ML_test/com_files\n",
      "\n",
      "o  Et_rdkit successfully processed at /home/svss/Project-DBcg-Molecules/aqme/Example_workflows/CSEARCH_CMIN_conformer_generation/ML_test/com_files\n",
      "\n",
      "o  Prop_rdkit successfully processed at /home/svss/Project-DBcg-Molecules/aqme/Example_workflows/CSEARCH_CMIN_conformer_generation/ML_test/com_files\n",
      "\n",
      "o  Bu_rdkit successfully processed at /home/svss/Project-DBcg-Molecules/aqme/Example_workflows/CSEARCH_CMIN_conformer_generation/ML_test/com_files\n",
      "\n",
      "o  Pent_rdkit successfully processed at /home/svss/Project-DBcg-Molecules/aqme/Example_workflows/CSEARCH_CMIN_conformer_generation/ML_test/com_files\n",
      "\n",
      "\n",
      "Time QPREP: 0.01 seconds\n",
      "\n",
      "\n"
     ]
    },
    {
     "data": {
      "text/plain": [
       "<aqme.qprep.qprep at 0x7f2b98fef210>"
      ]
     },
     "execution_count": 4,
     "metadata": {},
     "output_type": "execute_result"
    }
   ],
   "source": [
    "import os, glob\n",
    "from pathlib import Path\n",
    "from aqme.csearch import csearch\n",
    "from aqme.qprep import qprep\n",
    "\n",
    "# Ideal for ML or big data projects, only need to replace smi and name with CSV input\n",
    "csv_input = 'ML_test.csv'\n",
    "sdf_folder = 'ML_test'\n",
    "w_dir_main = Path(os.getcwd())\n",
    "sdf_path = w_dir_main.joinpath(sdf_folder)\n",
    "\n",
    "# create conformers for all the entries in the CSV\n",
    "csearch(destination=sdf_path,program='rdkit',input=csv_input)\n",
    "\n",
    "# set SDF filenames and directory where the new com files will be created\n",
    "com_path = sdf_path.joinpath(f'com_files')\n",
    "sdf_rdkit_files = glob.glob(f'{sdf_path}/*.sdf')\n",
    "\n",
    "# create COM files\n",
    "qprep(destination=com_path,files=sdf_rdkit_files,program='gaussian',\n",
    "        qm_input='wb97xd/6-31+G* opt freq',mem='24GB',nprocs=8)"
   ]
  },
  {
   "cell_type": "markdown",
   "id": "c26c13bb",
   "metadata": {},
   "source": [
    "###### Bonus 3: If you want to use the same functions using a YAML file that stores all the variables"
   ]
  },
  {
   "cell_type": "code",
   "execution_count": null,
   "id": "dc4c7d44",
   "metadata": {},
   "outputs": [],
   "source": [
    "# to load the variables from a YAML file, use the varfile option\n",
    "csearch(varfile='FILENAME.yaml')\n",
    "\n",
    "# for each option, specify it in the YAML file as follows:\n",
    "# program='rdkit' --> program: 'rdkit'\n",
    "# name='quinine' --> name: 'quinine'\n",
    "# etc"
   ]
  },
  {
   "cell_type": "markdown",
   "id": "5a2807c9",
   "metadata": {},
   "source": [
    "###### Bonus 4: If you want to use the same functions through command lines"
   ]
  },
  {
   "cell_type": "code",
   "execution_count": null,
   "id": "5e8c1d12",
   "metadata": {},
   "outputs": [],
   "source": [
    "csearch(destination=sdf_path,smi=smi,name='quinine',program='rdkit')\n",
    "\n",
    "# for each option, specify it in the command line as follows:\n",
    "# program='rdkit' --> --program 'rdkit'\n",
    "# name='quinine' --> --name quinine\n",
    "# etc\n",
    "# for example: python -m aqme --program rdkit --smi COC1=CC2=C(C=CN=C2C=C1)[C@H]([C@@H]3C[C@@H]4CCN3C[C@@H]4C=C)O --name quinine"
   ]
  }
 ],
 "metadata": {
  "interpreter": {
   "hash": "8aa3fe90e464923406f5eccc2b73c2c346150d55ceabc9491937b00a06e4c2ce"
  },
  "kernelspec": {
   "display_name": "bm",
   "language": "python",
   "name": "bm"
  },
  "language_info": {
   "codemirror_mode": {
    "name": "ipython",
    "version": 3
   },
   "file_extension": ".py",
   "mimetype": "text/x-python",
   "name": "python",
   "nbconvert_exporter": "python",
   "pygments_lexer": "ipython3",
   "version": "3.7.4"
  }
 },
 "nbformat": 4,
 "nbformat_minor": 5
}
