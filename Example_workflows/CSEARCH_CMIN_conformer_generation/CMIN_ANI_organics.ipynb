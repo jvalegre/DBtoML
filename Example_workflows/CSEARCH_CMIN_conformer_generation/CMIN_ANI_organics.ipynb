{
 "cells": [
  {
   "cell_type": "markdown",
   "id": "be3a65c8",
   "metadata": {},
   "source": [
    "#### Organic molecule with SMILES input, CSEARCH performs conformational sampling with RDKit, CMIN refines the geometries and energies with ANI, QPREP creates Gaussian input files"
   ]
  },
  {
   "cell_type": "markdown",
   "id": "d65dd465",
   "metadata": {},
   "source": [
    "###### Step 1: CSEARCH conformational sampling (creates SDF files)"
   ]
  },
  {
   "cell_type": "code",
   "execution_count": 1,
   "id": "6a15c717",
   "metadata": {},
   "outputs": [
    {
     "name": "stderr",
     "output_type": "stream",
     "text": [
      "RDKit WARNING: [15:23:19] Enabling RDKit 2019.09.3 jupyter extensions\n",
      "[15:23:19] Enabling RDKit 2019.09.3 jupyter extensions\n"
     ]
    },
    {
     "name": "stdout",
     "output_type": "stream",
     "text": [
      "True\n",
      "AQME v 1.4.0 2022/12/07 15:23:19 \n",
      "Citation: AQME v 1.4.0, Alegre-Requena, J. V.; Sowndarya, S.; Perez-Soto, R.; Alturaifi, T. M.; Paton, R. S., 2022. https://github.com/jvalegre/aqme\n",
      "\n",
      "\n",
      "\n",
      "Starting CSEARCH with 1 job(s) (SDF, XYZ, CSV, etc. files might contain multiple jobs/structures inside)\n",
      "\n",
      "\n",
      "\n",
      "   ----- quinine -----\n",
      "\n",
      "\n",
      "o  Applying filters to initial conformers\n",
      "\n",
      "\n",
      "Time CSEARCH: 25.54 seconds\n",
      "\n",
      "\n"
     ]
    },
    {
     "data": {
      "text/plain": [
       "<aqme.csearch.base.csearch at 0x7f6f49ac8ad0>"
      ]
     },
     "execution_count": 1,
     "metadata": {},
     "output_type": "execute_result"
    }
   ],
   "source": [
    "import os, glob\n",
    "from pathlib import Path                                                                                                                                                          \n",
    "from aqme.csearch import csearch\n",
    "from aqme.cmin import cmin\n",
    "from aqme.qprep import qprep\n",
    "from aqme.cmin import cmin\n",
    "\n",
    "# set working directory and SMILES string\n",
    "w_dir_main = Path(os.getcwd())\n",
    "sdf_rdkit_path = w_dir_main.joinpath('quinine_rdkit')\n",
    "smi = 'COC1=CC2=C(C=CN=C2C=C1)[C@H]([C@@H]3C[C@@H]4CCN3C[C@@H]4C=C)O'\n",
    "\n",
    "# run CSEARCH conformational sampling, specifying:\n",
    "# 1) PATH to create the new SDF files (destination=sdf_rdkit_path)\n",
    "# 2) RDKit sampling (program='rdkit')\n",
    "# 3) SMILES string (smi=smi)\n",
    "# 4) Name for the output SDF files (name='quinine')\n",
    "csearch(destination=sdf_rdkit_path,\n",
    "        smi=smi,name='quinine',program='rdkit')"
   ]
  },
  {
   "cell_type": "markdown",
   "id": "2415064b",
   "metadata": {},
   "source": [
    "###### Step 2: Doing CMIN with the SDF obtained from CSEARCH"
   ]
  },
  {
   "cell_type": "code",
   "execution_count": 3,
   "id": "85895810",
   "metadata": {},
   "outputs": [
    {
     "name": "stdout",
     "output_type": "stream",
     "text": [
      "True\n",
      "AQME v 1.4.0 2022/12/07 15:23:19 \n",
      "Citation: AQME v 1.4.0, Alegre-Requena, J. V.; Sowndarya, S.; Perez-Soto, R.; Alturaifi, T. M.; Paton, R. S., 2022. https://github.com/jvalegre/aqme\n",
      "\n",
      "\n",
      "\n",
      "\n",
      "o  Multiple minimization of /home/svss/Project-DBcg-Molecules/aqme/Example_workflows/CSEARCH_CMIN_conformer_generation/quinine_rdkit/quinine_rdkit.sdf with ani\n",
      "\n",
      "\n",
      "\n",
      "   ----- quinine_rdkit -----\n",
      "\n",
      "\n",
      "o  Applying filters to intial conformers after ani minimization\n",
      "\n",
      "\n",
      "Time CMIN: 309.92 seconds\n",
      "\n",
      "\n"
     ]
    },
    {
     "data": {
      "text/plain": [
       "<aqme.cmin.cmin at 0x7f6eb394f690>"
      ]
     },
     "execution_count": 3,
     "metadata": {},
     "output_type": "execute_result"
    }
   ],
   "source": [
    "sdf_cmin_path = w_dir_main.joinpath('quinine_ani')\n",
    "sdf_rdkit_files = glob.glob(f'{sdf_rdkit_path}/*.sdf')\n",
    "\n",
    "# run CMIN refiner, specifying:\n",
    "# 1) PATH to create the new SDF files (destination=sdf_cmin_path)\n",
    "# 2) SDF files from RDKit (files=sdf_rdkit_files)\n",
    "# 3) ANI re-optimization (program='ani')\n",
    "cmin(destination=sdf_cmin_path,files=sdf_rdkit_files,program='ani',ani_method='ANI1ccx')"
   ]
  },
  {
   "cell_type": "markdown",
   "id": "155df7aa",
   "metadata": {},
   "source": [
    "###### Step 3: Writing Gaussian input files with the SDF obtained from CMIN"
   ]
  },
  {
   "cell_type": "code",
   "execution_count": 11,
   "id": "0d4083c8",
   "metadata": {},
   "outputs": [
    {
     "name": "stdout",
     "output_type": "stream",
     "text": [
      "True\n",
      "AQME v 1.4.0 2022/12/07 15:23:19 \n",
      "Citation: AQME v 1.4.0, Alegre-Requena, J. V.; Sowndarya, S.; Perez-Soto, R.; Alturaifi, T. M.; Paton, R. S., 2022. https://github.com/jvalegre/aqme\n",
      "\n",
      "\n",
      "o  quinine_rdkit_ani successfully processed at /home/svss/Project-DBcg-Molecules/aqme/Example_workflows/CSEARCH_CMIN_conformer_generation/ani_com_files\n",
      "\n",
      "\n",
      "Time QPREP: 0.05 seconds\n",
      "\n",
      "\n"
     ]
    },
    {
     "data": {
      "text/plain": [
       "<aqme.qprep.qprep at 0x7f6ea2056ed0>"
      ]
     },
     "execution_count": 11,
     "metadata": {},
     "output_type": "execute_result"
    }
   ],
   "source": [
    "import os, glob\n",
    "from pathlib import Path                                                                                                                                                          \n",
    "from aqme.csearch import csearch\n",
    "from aqme.qprep import qprep\n",
    "from aqme.cmin import cmin\n",
    "\n",
    "# set SDF filenames and directory where the new com files will be created\n",
    "os.chdir(w_dir_main)\n",
    "com_path = w_dir_main.joinpath(f'ani_com_files')\n",
    "sdf_cmin_files = glob.glob(f'{sdf_cmin_path}/quinine_rdkit_ani.sdf')\n",
    "\n",
    "# run QPREP input files generator, with:\n",
    "# 1) PATH to create the new SDF files (destination=com_path)\n",
    "# 2) Files to convert (files=sdf_cmin_files)\n",
    "# 3) QM program for the input (program='gaussian')\n",
    "# 4) Keyword line for the Gaussian inputs (qm_input='wb97xd/6-31+G* opt freq')\n",
    "# 5) Memory to use in the calculations (mem='24GB')\n",
    "# 6) Processors to use in the calcs (nprocs=8)\n",
    "qprep(destination=com_path,files=sdf_cmin_files,program='gaussian',\n",
    "         qm_input='wb97xd/6-31+G* opt freq',mem='24GB',nprocs=8)\n",
    " "
   ]
  },
  {
   "cell_type": "code",
   "execution_count": null,
   "id": "1277c526",
   "metadata": {},
   "outputs": [],
   "source": []
  }
 ],
 "metadata": {
  "kernelspec": {
   "display_name": "Python 3 (ipykernel)",
   "language": "python",
   "name": "python3"
  },
  "language_info": {
   "codemirror_mode": {
    "name": "ipython",
    "version": 3
   },
   "file_extension": ".py",
   "mimetype": "text/x-python",
   "name": "python",
   "nbconvert_exporter": "python",
   "pygments_lexer": "ipython3",
   "version": "3.7.4"
  },
  "vscode": {
   "interpreter": {
    "hash": "6fd74c72106078714e0fce224080d73d80ec6931ebd33b284a64c665ffc716e5"
   }
  }
 },
 "nbformat": 4,
 "nbformat_minor": 5
}
