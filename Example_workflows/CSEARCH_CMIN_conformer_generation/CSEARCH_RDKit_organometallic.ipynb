{
 "cells": [
  {
   "cell_type": "markdown",
   "id": "c2305772",
   "metadata": {},
   "source": [
    "#### Metal complex with SMILES input, CSEARCH performs conformational sampling with RDKit, QPREP creates Gaussian input files with genECP"
   ]
  },
  {
   "cell_type": "markdown",
   "id": "3512263d",
   "metadata": {},
   "source": [
    "###### Step 1: CSEARCH conformational sampling (creates SDF files)"
   ]
  },
  {
   "cell_type": "code",
   "execution_count": 1,
   "id": "0e8e6c94",
   "metadata": {},
   "outputs": [
    {
     "name": "stderr",
     "output_type": "stream",
     "text": [
      "RDKit WARNING: [14:40:25] Enabling RDKit 2019.09.3 jupyter extensions\n",
      "[14:40:25] Enabling RDKit 2019.09.3 jupyter extensions\n"
     ]
    },
    {
     "name": "stdout",
     "output_type": "stream",
     "text": [
      "True\n",
      "AQME v 1.4.0 2022/12/07 14:40:26 \n",
      "Citation: AQME v 1.4.0, Alegre-Requena, J. V.; Sowndarya, S.; Perez-Soto, R.; Alturaifi, T. M.; Paton, R. S., 2022. https://github.com/jvalegre/aqme\n",
      "\n",
      "\n",
      "\n",
      "Starting CSEARCH with 1 job(s) (SDF, XYZ, CSV, etc. files might contain multiple jobs/structures inside)\n",
      "\n",
      "\n",
      "\n",
      "   ----- Pd_complex_0 -----\n",
      "\n",
      "\n",
      "x  MMFF is not compatible with the molecule, changing to UFF\n",
      "\n",
      "\n",
      "o  Applying filters to initial conformers\n",
      "\n",
      "\n",
      "   ----- Pd_complex_1 -----\n",
      "\n",
      "\n",
      "x  MMFF is not compatible with the molecule, changing to UFF\n",
      "\n",
      "\n",
      "o  Applying filters to initial conformers\n",
      "\n",
      "\n",
      "   ----- Pd_complex_2 -----\n",
      "\n",
      "\n",
      "x  MMFF is not compatible with the molecule, changing to UFF\n",
      "\n",
      "\n",
      "o  Applying filters to initial conformers\n",
      "\n",
      "\n",
      "Time CSEARCH: 5.02 seconds\n",
      "\n",
      "\n"
     ]
    },
    {
     "data": {
      "text/plain": [
       "<aqme.csearch.base.csearch at 0x7f9e74fc2810>"
      ]
     },
     "execution_count": 1,
     "metadata": {},
     "output_type": "execute_result"
    }
   ],
   "source": [
    "import os, glob\n",
    "from pathlib import Path                                                                                                                                                          \n",
    "from aqme.csearch import csearch\n",
    "from aqme.qprep import qprep\n",
    "\n",
    "# set working directory and SMILES string\n",
    "w_dir_main = Path(os.getcwd())\n",
    "sdf_path = w_dir_main.joinpath('Pd_sdf_files')\n",
    "smi_metal = 'I[Pd]([PH3+])(F)Cl'\n",
    "\n",
    "# run CSEARCH conformational sampling, specifying:\n",
    "# 1) PATH to create the new SDF files (destination=sdf_path)\n",
    "# 2) Simple RDKit sampling (program='rdkit')\n",
    "# 3) SMILES string (smi=smi_metal)\n",
    "# 4) Name for the output SDF files (name='Pd_complex')\n",
    "# 5) The metal is Pd (metal=['Pd'])\n",
    "# 6) Oxidation number +2 (metal_oxi=[2])\n",
    "# 7) The complex is squareplanar (complex_type='squareplanar')\n",
    "csearch(destination=sdf_path,program='rdkit',smi=smi_metal,name='Pd_complex',\n",
    "        metal_atoms=['Pd'],metal_oxi=[2],mult=1,complex_type='squareplanar')"
   ]
  },
  {
   "cell_type": "markdown",
   "id": "7b4142e8",
   "metadata": {},
   "source": [
    "###### Step 2: Writing Gaussian input files with the SDF obtained from CSEARCH"
   ]
  },
  {
   "cell_type": "code",
   "execution_count": 2,
   "id": "cb34aa4c",
   "metadata": {},
   "outputs": [
    {
     "name": "stdout",
     "output_type": "stream",
     "text": [
      "True\n",
      "AQME v 1.4.0 2022/12/07 14:40:26 \n",
      "Citation: AQME v 1.4.0, Alegre-Requena, J. V.; Sowndarya, S.; Perez-Soto, R.; Alturaifi, T. M.; Paton, R. S., 2022. https://github.com/jvalegre/aqme\n",
      "\n",
      "\n",
      "o  Pd_complex_0_rdkit successfully processed at /home/svss/Project-DBcg-Molecules/aqme/Example_workflows/CSEARCH_CMIN_conformer_generation/Pd_sdf_files/com_files\n",
      "\n",
      "o  Pd_complex_1_rdkit successfully processed at /home/svss/Project-DBcg-Molecules/aqme/Example_workflows/CSEARCH_CMIN_conformer_generation/Pd_sdf_files/com_files\n",
      "\n",
      "o  Pd_complex_2_rdkit successfully processed at /home/svss/Project-DBcg-Molecules/aqme/Example_workflows/CSEARCH_CMIN_conformer_generation/Pd_sdf_files/com_files\n",
      "\n",
      "\n",
      "Time QPREP: 0.01 seconds\n",
      "\n",
      "\n"
     ]
    },
    {
     "data": {
      "text/plain": [
       "<aqme.qprep.qprep at 0x7fa0995b5890>"
      ]
     },
     "execution_count": 2,
     "metadata": {},
     "output_type": "execute_result"
    }
   ],
   "source": [
    "# set SDF filenames and directory where the new com files will be created\n",
    "com_path = sdf_path.joinpath(f'com_files')\n",
    "sdf_rdkit_files = glob.glob(f'{sdf_path}/*.sdf')\n",
    "\n",
    "# run QPREP input files generator, with:\n",
    "# 1) PATH to create the new SDF files (destination=com_path)\n",
    "# 2) Files to convert (files=sdf_rdkit_files)\n",
    "# 3) QM program for the input (program='gaussian')\n",
    "# 4) Keyword line for the Gaussian inputs (qm_input='B3LYP/genecp opt freq')\n",
    "# 5) Basis set to use in the atoms included in genECP (bs_gen='def2svp')\n",
    "# 6) Basis set to use in the rest of the atoms (bs='6-31G*')\n",
    "# 7) Atoms to include as genECP (gen_atoms=['Pd'])\n",
    "# 8) Memory to use in the calculations (mem='24GB')\n",
    "# 9) Processors to use in the calcs (nprocs=8)\n",
    "qprep(destination=com_path,files=sdf_rdkit_files,program='gaussian',qm_input='B3LYP/genecp opt freq',\n",
    "        bs_gen='def2svp',bs_nogen='6-31G*',gen_atoms=['Pd'],mem='24GB',nprocs=8)\n",
    " "
   ]
  },
  {
   "cell_type": "markdown",
   "id": "1c0d52a1",
   "metadata": {},
   "source": [
    "###### Bonus 1: If you want to use the same functions using a YAML file that stores all the variables"
   ]
  },
  {
   "cell_type": "code",
   "execution_count": null,
   "id": "8ec1dd0c",
   "metadata": {},
   "outputs": [],
   "source": [
    "# to load the variables from a YAML file, use the varfile option\n",
    "csearch(varfile='FILENAME.yaml')\n",
    "\n",
    "# for each option, specify it in the YAML file as follows:\n",
    "# program='rdkit' --> program: 'rdkit'\n",
    "# name='Pd_complex' --> name: 'Pd_complex'\n",
    "# etc"
   ]
  },
  {
   "cell_type": "markdown",
   "id": "596d49ef",
   "metadata": {},
   "source": [
    "###### Bonus 2: If you want to use the same functions through command lines"
   ]
  },
  {
   "cell_type": "code",
   "execution_count": 5,
   "id": "ea7f9020",
   "metadata": {},
   "outputs": [
    {
     "name": "stdout",
     "output_type": "stream",
     "text": [
      "True\n",
      "AQME v 1.4.0 2022/12/07 14:40:26 \n",
      "Citation: AQME v 1.4.0, Alegre-Requena, J. V.; Sowndarya, S.; Perez-Soto, R.; Alturaifi, T. M.; Paton, R. S., 2022. https://github.com/jvalegre/aqme\n",
      "\n",
      "\n",
      "\n",
      "Starting CSEARCH with 1 job(s) (SDF, XYZ, CSV, etc. files might contain multiple jobs/structures inside)\n",
      "\n",
      "\n",
      "\n",
      "   ----- Pd_complex_0 -----\n",
      "\n",
      "\n",
      "x  MMFF is not compatible with the molecule, changing to UFF\n",
      "\n",
      "\n",
      "o  Applying filters to initial conformers\n",
      "\n",
      "\n",
      "   ----- Pd_complex_1 -----\n",
      "\n",
      "\n",
      "x  MMFF is not compatible with the molecule, changing to UFF\n",
      "\n",
      "\n",
      "o  Applying filters to initial conformers\n",
      "\n",
      "\n",
      "   ----- Pd_complex_2 -----\n",
      "\n",
      "\n",
      "x  MMFF is not compatible with the molecule, changing to UFF\n",
      "\n",
      "\n",
      "o  Applying filters to initial conformers\n",
      "\n",
      "\n",
      "Time CSEARCH: 224.47 seconds\n",
      "\n",
      "\n"
     ]
    },
    {
     "data": {
      "text/plain": [
       "<aqme.csearch.base.csearch at 0x7fa09959f750>"
      ]
     },
     "execution_count": 5,
     "metadata": {},
     "output_type": "execute_result"
    }
   ],
   "source": [
    "csearch(destination=sdf_path,program='rdkit',smi=smi_metal,name='Pd_complex',\n",
    "        metal_atoms=['Pd'],metal_oxi=[2],mult=1,complex_type='squareplanar')\n",
    "\n",
    "# for each option, specify it in the command line as follows:\n",
    "# program='rdkit' --> --program 'rdkit'\n",
    "# name='Pd_complex' --> --name Pd_complex\n",
    "# etc\n",
    "# for example: python -m aqme --program rdkit --smi I[Pd](Cl)([PH3+])[N+]1=CC=CC=C1 --name Pd_complex"
   ]
  },
  {
   "cell_type": "code",
   "execution_count": null,
   "id": "f98f04b3-4c07-43e1-a343-c1173e1917fe",
   "metadata": {},
   "outputs": [],
   "source": []
  }
 ],
 "metadata": {
  "kernelspec": {
   "display_name": "Python 3 (ipykernel)",
   "language": "python",
   "name": "python3"
  },
  "language_info": {
   "codemirror_mode": {
    "name": "ipython",
    "version": 3
   },
   "file_extension": ".py",
   "mimetype": "text/x-python",
   "name": "python",
   "nbconvert_exporter": "python",
   "pygments_lexer": "ipython3",
   "version": "3.7.4"
  },
  "vscode": {
   "interpreter": {
    "hash": "6fd74c72106078714e0fce224080d73d80ec6931ebd33b284a64c665ffc716e5"
   }
  }
 },
 "nbformat": 4,
 "nbformat_minor": 5
}
