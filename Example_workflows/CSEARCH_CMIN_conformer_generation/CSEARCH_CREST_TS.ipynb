{
 "cells": [
  {
   "cell_type": "markdown",
   "id": "e719255c",
   "metadata": {},
   "source": [
    "#### TS including a three-component noncovalent complex from SMILES, create ORCA input files, CSEARCH with CREST"
   ]
  },
  {
   "cell_type": "markdown",
   "id": "92f6ff2f",
   "metadata": {},
   "source": [
    "###### Step 1: creating SMILES with predefined atom numbers and setting constrains"
   ]
  },
  {
   "cell_type": "code",
   "execution_count": 1,
   "id": "0b30073d",
   "metadata": {},
   "outputs": [
    {
     "name": "stderr",
     "output_type": "stream",
     "text": [
      "RDKit WARNING: [15:54:21] Enabling RDKit 2019.09.3 jupyter extensions\n",
      "[15:54:21] Enabling RDKit 2019.09.3 jupyter extensions\n"
     ]
    },
    {
     "name": "stdout",
     "output_type": "stream",
     "text": [
      "[Cl-:9].[F:4][C:5]([C:6]([H:12])([H:13])[H:14])([C:7]([H:15])([H:16])[H:17])[C:8]([H:18])([H:19])[H:20].[O:3]([H:10])[H:11]\n"
     ]
    },
    {
     "data": {
      "image/png": "[encoded data removed]",
      "text/plain": [
       "<rdkit.Chem.rdchem.Mol at 0x7f1cc5c43e90>"
      ]
     },
     "execution_count": 1,
     "metadata": {},
     "output_type": "execute_result"
    }
   ],
   "source": [
    "import glob\n",
    "from rdkit import Chem                                                                                                                                                         \n",
    "from aqme.csearch import csearch\n",
    "from aqme.qprep import qprep\n",
    "\n",
    "smi = 'O.FC(C)(C)C.[Cl-]'\n",
    "mol = Chem.MolFromSmiles(smi)\n",
    "mol = Chem.AddHs(mol)\n",
    "for i,atom in enumerate(mol.GetAtoms()):\n",
    "    atom.SetAtomMapNum(i+3) \n",
    "# mapped SMILES to use in CSEARCH\n",
    "smi_new = Chem.MolToSmiles(mol)\n",
    "\n",
    "print(smi_new)\n",
    "mol"
   ]
  },
  {
   "cell_type": "code",
   "execution_count": 2,
   "id": "a750138d",
   "metadata": {},
   "outputs": [],
   "source": [
    "# based on the atom numbers above, I choose the constraints for my TS:\n",
    "# 1) Bond between atoms 4 and 5 with a distance of 1.8 A\n",
    "# 2) Bond between atoms 5 and 9 with a distance of 1.8 A\n",
    "constraits_dist = [[4,5,1.8],[5,9,1.8]]\n",
    "\n",
    "# 3) Angle between atoms 4, 5 and 9 of 180 degrees\n",
    "constraits_angle = [[4,5,9,180]]"
   ]
  },
  {
   "cell_type": "markdown",
   "id": "39fe96bd",
   "metadata": {},
   "source": [
    "###### Step 2: doing CSEARCH"
   ]
  },
  {
   "cell_type": "code",
   "execution_count": 3,
   "id": "9da0d0a8",
   "metadata": {},
   "outputs": [
    {
     "name": "stdout",
     "output_type": "stream",
     "text": [
      "Warning! Option: [ crest_nci : True ] provided but no option exists, try the online documentation to see available options for each module.\n",
      "True\n",
      "AQME v 1.4.0 2022/12/07 15:54:22 \n",
      "Citation: AQME v 1.4.0, Alegre-Requena, J. V.; Sowndarya, S.; Perez-Soto, R.; Alturaifi, T. M.; Paton, R. S., 2022. https://github.com/jvalegre/aqme\n",
      "\n",
      "\n",
      "\n",
      "Starting CSEARCH with 1 job(s) (SDF, XYZ, CSV, etc. files might contain multiple jobs/structures inside)\n",
      "\n",
      "\n",
      "\n",
      "   ----- TS-example -----\n",
      "\n",
      "\n",
      "Time CSEARCH: 357.48 seconds\n",
      "\n",
      "\n"
     ]
    },
    {
     "data": {
      "text/plain": [
       "<aqme.csearch.base.csearch at 0x7f1cc5c4f590>"
      ]
     },
     "execution_count": 3,
     "metadata": {},
     "output_type": "execute_result"
    }
   ],
   "source": [
    "# run CSEARCH conformational sampling, specifying:\n",
    "# 1) Mapped SMILES string (smi=smi_new)\n",
    "# 2) Name for the output SDF files (name='TS-example')\n",
    "# 3) RDKit sampling (program='crest')\n",
    "# 4) Include CREGEN post-analysis (cregen=True)\n",
    "# 5) Specify that this a TS calculation (ts_complex=True)\n",
    "# 6) Define distance constraints (constraints_dist=constraits_dist)\n",
    "# 7) Define angle constraints (constraints_angle=constraits_angle)\n",
    "csearch(smi=smi_new,\n",
    "        name='TS-example',program='crest',cregen=True,crest_nci=True,\n",
    "        constraints_dist=constraits_dist,constraints_angle=constraits_angle)"
   ]
  },
  {
   "cell_type": "markdown",
   "id": "ecb76fbf",
   "metadata": {},
   "source": [
    "###### Step 3: Writing Gaussian input files with the SDF files obtained from CSEARCH"
   ]
  },
  {
   "cell_type": "code",
   "execution_count": 4,
   "id": "b32c138a",
   "metadata": {},
   "outputs": [
    {
     "name": "stdout",
     "output_type": "stream",
     "text": [
      "True\n",
      "AQME v 1.4.0 2022/12/07 15:54:22 \n",
      "Citation: AQME v 1.4.0, Alegre-Requena, J. V.; Sowndarya, S.; Perez-Soto, R.; Alturaifi, T. M.; Paton, R. S., 2022. https://github.com/jvalegre/aqme\n",
      "\n",
      "\n",
      "o  TS-example_crest successfully processed at /home/svss/Project-DBcg-Molecules/aqme/Example_workflows/CSEARCH_CMIN_conformer_generation/QCALC\n",
      "\n",
      "\n",
      "Time QPREP: 0.31 seconds\n",
      "\n",
      "\n"
     ]
    },
    {
     "data": {
      "text/plain": [
       "<aqme.qprep.qprep at 0x7f1cc5b7b710>"
      ]
     },
     "execution_count": 4,
     "metadata": {},
     "output_type": "execute_result"
    }
   ],
   "source": [
    "# set SDF filenames and directory where the new com files will be created\n",
    "sdf_rdkit_files = glob.glob(f'CSEARCH/*.sdf')\n",
    "\n",
    "# run QPREP input files generator, with:\n",
    "# 1) Files to convert (files=sdf_rdkit_files)\n",
    "# 2) QM program for the input (program='gaussian')\n",
    "# 3) Keyword line for the Gaussian inputs (qm_input='wb97xd/6-31+G* opt=(calcfc,ts,noeigen) freq')\n",
    "# 4) Memory to use in the calculations (mem='24GB')\n",
    "# 5) Processors to use in the calcs (nprocs=8)\n",
    "qprep(files=sdf_rdkit_files,program='gaussian',\n",
    "        qm_input='wb97xd/6-31+G* opt=(calcfc,ts,noeigen) freq',mem='24GB',nprocs=8)"
   ]
  },
  {
   "cell_type": "code",
   "execution_count": null,
   "id": "d9787cca",
   "metadata": {},
   "outputs": [],
   "source": []
  }
 ],
 "metadata": {
  "interpreter": {
   "hash": "8aa3fe90e464923406f5eccc2b73c2c346150d55ceabc9491937b00a06e4c2ce"
  },
  "kernelspec": {
   "display_name": "bm",
   "language": "python",
   "name": "bm"
  },
  "language_info": {
   "codemirror_mode": {
    "name": "ipython",
    "version": 3
   },
   "file_extension": ".py",
   "mimetype": "text/x-python",
   "name": "python",
   "nbconvert_exporter": "python",
   "pygments_lexer": "ipython3",
   "version": "3.7.4"
  }
 },
 "nbformat": 4,
 "nbformat_minor": 5
}
