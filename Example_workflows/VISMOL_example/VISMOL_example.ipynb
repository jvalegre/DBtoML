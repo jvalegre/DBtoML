{
 "cells": [
  {
   "cell_type": "markdown",
   "id": "d733fcd5-fafc-4797-be46-fc9c5f23d9ab",
   "metadata": {},
   "source": [
    "#### Molecular representations of multiple conformers"
   ]
  },
  {
   "cell_type": "markdown",
   "id": "72a4b25e",
   "metadata": {},
   "source": [
    "###### Step 1 : Imports"
   ]
  },
  {
   "cell_type": "code",
   "execution_count": 1,
   "id": "15c32915-2f22-4915-a852-1c7bcf635495",
   "metadata": {},
   "outputs": [
    {
     "name": "stderr",
     "output_type": "stream",
     "text": [
      "RDKit WARNING: [16:09:34] Enabling RDKit 2019.09.3 jupyter extensions\n",
      "[16:09:34] Enabling RDKit 2019.09.3 jupyter extensions\n"
     ]
    }
   ],
   "source": [
    "import glob\n",
    "from aqme.vismol import vismol"
   ]
  },
  {
   "cell_type": "markdown",
   "id": "e7696ea7-6fae-4802-9a2a-5e32647bcc0c",
   "metadata": {},
   "source": [
    "###### Step 2 : VISMOL represents conformers from different input types"
   ]
  },
  {
   "cell_type": "code",
   "execution_count": 3,
   "id": "4285cc7c-956f-4f6f-a92d-66d17557c824",
   "metadata": {},
   "outputs": [
    {
     "name": "stdout",
     "output_type": "stream",
     "text": [
      "['quinine_rdkit.sdf', 'quinine_rdkit_2.sdf']\n",
      "AQME v 1.4.0 2022/12/07 16:09:34 \n",
      "Citation: AQME v 1.4.0, Alegre-Requena, J. V.; Sowndarya, S.; Perez-Soto, R.; Alturaifi, T. M.; Paton, R. S., 2022. https://github.com/jvalegre/aqme\n",
      "\n",
      "\n"
     ]
    },
    {
     "data": {
      "application/vnd.jupyter.widget-view+json": {
       "model_id": "51802a19abaf456a8f43aaa97e40ee95",
       "version_major": 2,
       "version_minor": 0
      },
      "text/plain": [
       "interactive(children=(IntSlider(value=0, description='idx', max=9), Dropdown(description='Style:', options=('l…"
      ]
     },
     "metadata": {},
     "output_type": "display_data"
    },
    {
     "data": {
      "application/vnd.jupyter.widget-view+json": {
       "model_id": "cede3d3e775d426f8971affd8a95d228",
       "version_major": 2,
       "version_minor": 0
      },
      "text/plain": [
       "interactive(children=(IntSlider(value=0, description='idx', max=9), Dropdown(description='Style:', options=('l…"
      ]
     },
     "metadata": {},
     "output_type": "display_data"
    },
    {
     "name": "stdout",
     "output_type": "stream",
     "text": [
      "\n",
      "Time VIZMOL: 0.06 seconds\n",
      "\n",
      "\n"
     ]
    },
    {
     "data": {
      "text/plain": [
       "<aqme.vismol.vismol at 0x7fd79c0cfc50>"
      ]
     },
     "execution_count": 3,
     "metadata": {},
     "output_type": "execute_result"
    }
   ],
   "source": [
    "files = glob.glob('*.sdf')\n",
    "print(files)\n",
    "vismol(files=files)"
   ]
  },
  {
   "cell_type": "code",
   "execution_count": 4,
   "id": "7dd87f1a-9cd0-47ef-ae24-aebaeb2e9197",
   "metadata": {},
   "outputs": [
    {
     "name": "stdout",
     "output_type": "stream",
     "text": [
      "['Int-I.xyz']\n",
      "AQME v 1.4.0 2022/12/07 16:09:34 \n",
      "Citation: AQME v 1.4.0, Alegre-Requena, J. V.; Sowndarya, S.; Perez-Soto, R.; Alturaifi, T. M.; Paton, R. S., 2022. https://github.com/jvalegre/aqme\n",
      "\n",
      "\n"
     ]
    },
    {
     "data": {
      "application/vnd.jupyter.widget-view+json": {
       "model_id": "05bca0ec78e14b0a9c162a12e7bdb84b",
       "version_major": 2,
       "version_minor": 0
      },
      "text/plain": [
       "interactive(children=(IntSlider(value=0, description='idx', max=2), Dropdown(description='Style:', options=('l…"
      ]
     },
     "metadata": {},
     "output_type": "display_data"
    },
    {
     "name": "stdout",
     "output_type": "stream",
     "text": [
      "\n",
      "Time VIZMOL: 0.12 seconds\n",
      "\n",
      "\n"
     ]
    },
    {
     "data": {
      "text/plain": [
       "<aqme.vismol.vismol at 0x7fd553b48ed0>"
      ]
     },
     "execution_count": 4,
     "metadata": {},
     "output_type": "execute_result"
    }
   ],
   "source": [
    "files =  glob.glob('*.xyz')\n",
    "print(files)\n",
    "vismol(files=files)"
   ]
  },
  {
   "cell_type": "code",
   "execution_count": 5,
   "id": "6aa502c6-a0e2-48a7-9c16-02b4322d003b",
   "metadata": {},
   "outputs": [
    {
     "name": "stdout",
     "output_type": "stream",
     "text": [
      "['7ac8_chainsEF.pdb']\n",
      "AQME v 1.4.0 2022/12/07 16:09:34 \n",
      "Citation: AQME v 1.4.0, Alegre-Requena, J. V.; Sowndarya, S.; Perez-Soto, R.; Alturaifi, T. M.; Paton, R. S., 2022. https://github.com/jvalegre/aqme\n",
      "\n",
      "\n"
     ]
    },
    {
     "data": {
      "application/vnd.jupyter.widget-view+json": {
       "model_id": "ec98a84a24ec454b80cc5e56d2d5cbd6",
       "version_major": 2,
       "version_minor": 0
      },
      "text/plain": [
       "interactive(children=(IntSlider(value=0, description='idx', max=0), Dropdown(description='Style:', options=('l…"
      ]
     },
     "metadata": {},
     "output_type": "display_data"
    },
    {
     "name": "stdout",
     "output_type": "stream",
     "text": [
      "\n",
      "Time VIZMOL: 1.12 seconds\n",
      "\n",
      "\n"
     ]
    },
    {
     "data": {
      "text/plain": [
       "<aqme.vismol.vismol at 0x7fd79d982b50>"
      ]
     },
     "execution_count": 5,
     "metadata": {},
     "output_type": "execute_result"
    }
   ],
   "source": [
    "files = glob.glob('*.pdb')\n",
    "print(files)\n",
    "vismol(files=files)"
   ]
  },
  {
   "cell_type": "code",
   "execution_count": null,
   "id": "c1e2aa13-49b6-441e-a589-df74821f7f8c",
   "metadata": {},
   "outputs": [],
   "source": []
  }
 ],
 "metadata": {
  "kernelspec": {
   "display_name": "Python 3 (ipykernel)",
   "language": "python",
   "name": "python3"
  },
  "language_info": {
   "codemirror_mode": {
    "name": "ipython",
    "version": 3
   },
   "file_extension": ".py",
   "mimetype": "text/x-python",
   "name": "python",
   "nbconvert_exporter": "python",
   "pygments_lexer": "ipython3",
   "version": "3.7.4"
  },
  "vscode": {
   "interpreter": {
    "hash": "6fd74c72106078714e0fce224080d73d80ec6931ebd33b284a64c665ffc716e5"
   }
  }
 },
 "nbformat": 4,
 "nbformat_minor": 5
}
